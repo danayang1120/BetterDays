{
  "nbformat": 4,
  "nbformat_minor": 0,
  "metadata": {
    "colab": {
      "name": "Modelling.ipynb",
      "provenance": [],
      "collapsed_sections": [],
      "mount_file_id": "1U3hyyqe5h-cQ3uy8iWrSx5GAzslObmpx",
      "authorship_tag": "ABX9TyPhE0mj/yF/uoNsDUko7+FT",
      "include_colab_link": true
    },
    "kernelspec": {
      "name": "python3",
      "display_name": "Python 3"
    },
    "language_info": {
      "name": "python"
    }
  },
  "cells": [
    {
      "cell_type": "markdown",
      "metadata": {
        "id": "view-in-github",
        "colab_type": "text"
      },
      "source": [
        "<a href=\"https://colab.research.google.com/github/danayang1120/BetterDays/blob/main/Modelling.ipynb\" target=\"_parent\"><img src=\"https://colab.research.google.com/assets/colab-badge.svg\" alt=\"Open In Colab\"/></a>"
      ]
    },
    {
      "cell_type": "code",
      "metadata": {
        "colab": {
          "base_uri": "https://localhost:8080/"
        },
        "id": "t9gVK0AVLPTY",
        "outputId": "0a977d3b-f3ec-4ddc-ffd5-7a0cf55caebc"
      },
      "source": [
        "! sudo apt install openjdk-8-jdk\n",
        "! sudo update-alternatives --config java"
      ],
      "execution_count": 1,
      "outputs": [
        {
          "output_type": "stream",
          "name": "stdout",
          "text": [
            "Reading package lists... Done\n",
            "Building dependency tree       \n",
            "Reading state information... Done\n",
            "The following additional packages will be installed:\n",
            "  fonts-dejavu-core fonts-dejavu-extra libatk-wrapper-java\n",
            "  libatk-wrapper-java-jni libgail-common libgail18 libgtk2.0-0 libgtk2.0-bin\n",
            "  libgtk2.0-common libxxf86dga1 openjdk-8-jdk-headless openjdk-8-jre\n",
            "  openjdk-8-jre-headless x11-utils\n",
            "Suggested packages:\n",
            "  gvfs openjdk-8-demo openjdk-8-source visualvm icedtea-8-plugin libnss-mdns\n",
            "  fonts-ipafont-gothic fonts-ipafont-mincho fonts-wqy-microhei\n",
            "  fonts-wqy-zenhei fonts-indic mesa-utils\n",
            "The following NEW packages will be installed:\n",
            "  fonts-dejavu-core fonts-dejavu-extra libatk-wrapper-java\n",
            "  libatk-wrapper-java-jni libgail-common libgail18 libgtk2.0-0 libgtk2.0-bin\n",
            "  libgtk2.0-common libxxf86dga1 openjdk-8-jdk openjdk-8-jdk-headless\n",
            "  openjdk-8-jre openjdk-8-jre-headless x11-utils\n",
            "0 upgraded, 15 newly installed, 0 to remove and 37 not upgraded.\n",
            "Need to get 43.5 MB of archives.\n",
            "After this operation, 163 MB of additional disk space will be used.\n",
            "Get:1 http://archive.ubuntu.com/ubuntu bionic/main amd64 libxxf86dga1 amd64 2:1.1.4-1 [13.7 kB]\n",
            "Get:2 http://archive.ubuntu.com/ubuntu bionic/main amd64 fonts-dejavu-core all 2.37-1 [1,041 kB]\n",
            "Get:3 http://archive.ubuntu.com/ubuntu bionic/main amd64 fonts-dejavu-extra all 2.37-1 [1,953 kB]\n",
            "Get:4 http://archive.ubuntu.com/ubuntu bionic/main amd64 x11-utils amd64 7.7+3build1 [196 kB]\n",
            "Get:5 http://archive.ubuntu.com/ubuntu bionic/main amd64 libatk-wrapper-java all 0.33.3-20ubuntu0.1 [34.7 kB]\n",
            "Get:6 http://archive.ubuntu.com/ubuntu bionic/main amd64 libatk-wrapper-java-jni amd64 0.33.3-20ubuntu0.1 [28.3 kB]\n",
            "Get:7 http://archive.ubuntu.com/ubuntu bionic/main amd64 libgtk2.0-common all 2.24.32-1ubuntu1 [125 kB]\n",
            "Get:8 http://archive.ubuntu.com/ubuntu bionic/main amd64 libgtk2.0-0 amd64 2.24.32-1ubuntu1 [1,769 kB]\n",
            "Get:9 http://archive.ubuntu.com/ubuntu bionic/main amd64 libgail18 amd64 2.24.32-1ubuntu1 [14.2 kB]\n",
            "Get:10 http://archive.ubuntu.com/ubuntu bionic/main amd64 libgail-common amd64 2.24.32-1ubuntu1 [112 kB]\n",
            "Get:11 http://archive.ubuntu.com/ubuntu bionic/main amd64 libgtk2.0-bin amd64 2.24.32-1ubuntu1 [7,536 B]\n",
            "Get:12 http://archive.ubuntu.com/ubuntu bionic-updates/universe amd64 openjdk-8-jre-headless amd64 8u292-b10-0ubuntu1~18.04 [28.2 MB]\n",
            "Get:13 http://archive.ubuntu.com/ubuntu bionic-updates/universe amd64 openjdk-8-jre amd64 8u292-b10-0ubuntu1~18.04 [69.6 kB]\n",
            "Get:14 http://archive.ubuntu.com/ubuntu bionic-updates/universe amd64 openjdk-8-jdk-headless amd64 8u292-b10-0ubuntu1~18.04 [8,284 kB]\n",
            "Get:15 http://archive.ubuntu.com/ubuntu bionic-updates/universe amd64 openjdk-8-jdk amd64 8u292-b10-0ubuntu1~18.04 [1,644 kB]\n",
            "Fetched 43.5 MB in 2s (22.6 MB/s)\n",
            "debconf: unable to initialize frontend: Dialog\n",
            "debconf: (No usable dialog-like program is installed, so the dialog based frontend cannot be used. at /usr/share/perl5/Debconf/FrontEnd/Dialog.pm line 76, <> line 15.)\n",
            "debconf: falling back to frontend: Readline\n",
            "debconf: unable to initialize frontend: Readline\n",
            "debconf: (This frontend requires a controlling tty.)\n",
            "debconf: falling back to frontend: Teletype\n",
            "dpkg-preconfigure: unable to re-open stdin: \n",
            "Selecting previously unselected package libxxf86dga1:amd64.\n",
            "(Reading database ... 155222 files and directories currently installed.)\n",
            "Preparing to unpack .../00-libxxf86dga1_2%3a1.1.4-1_amd64.deb ...\n",
            "Unpacking libxxf86dga1:amd64 (2:1.1.4-1) ...\n",
            "Selecting previously unselected package fonts-dejavu-core.\n",
            "Preparing to unpack .../01-fonts-dejavu-core_2.37-1_all.deb ...\n",
            "Unpacking fonts-dejavu-core (2.37-1) ...\n",
            "Selecting previously unselected package fonts-dejavu-extra.\n",
            "Preparing to unpack .../02-fonts-dejavu-extra_2.37-1_all.deb ...\n",
            "Unpacking fonts-dejavu-extra (2.37-1) ...\n",
            "Selecting previously unselected package x11-utils.\n",
            "Preparing to unpack .../03-x11-utils_7.7+3build1_amd64.deb ...\n",
            "Unpacking x11-utils (7.7+3build1) ...\n",
            "Selecting previously unselected package libatk-wrapper-java.\n",
            "Preparing to unpack .../04-libatk-wrapper-java_0.33.3-20ubuntu0.1_all.deb ...\n",
            "Unpacking libatk-wrapper-java (0.33.3-20ubuntu0.1) ...\n",
            "Selecting previously unselected package libatk-wrapper-java-jni:amd64.\n",
            "Preparing to unpack .../05-libatk-wrapper-java-jni_0.33.3-20ubuntu0.1_amd64.deb ...\n",
            "Unpacking libatk-wrapper-java-jni:amd64 (0.33.3-20ubuntu0.1) ...\n",
            "Selecting previously unselected package libgtk2.0-common.\n",
            "Preparing to unpack .../06-libgtk2.0-common_2.24.32-1ubuntu1_all.deb ...\n",
            "Unpacking libgtk2.0-common (2.24.32-1ubuntu1) ...\n",
            "Selecting previously unselected package libgtk2.0-0:amd64.\n",
            "Preparing to unpack .../07-libgtk2.0-0_2.24.32-1ubuntu1_amd64.deb ...\n",
            "Unpacking libgtk2.0-0:amd64 (2.24.32-1ubuntu1) ...\n",
            "Selecting previously unselected package libgail18:amd64.\n",
            "Preparing to unpack .../08-libgail18_2.24.32-1ubuntu1_amd64.deb ...\n",
            "Unpacking libgail18:amd64 (2.24.32-1ubuntu1) ...\n",
            "Selecting previously unselected package libgail-common:amd64.\n",
            "Preparing to unpack .../09-libgail-common_2.24.32-1ubuntu1_amd64.deb ...\n",
            "Unpacking libgail-common:amd64 (2.24.32-1ubuntu1) ...\n",
            "Selecting previously unselected package libgtk2.0-bin.\n",
            "Preparing to unpack .../10-libgtk2.0-bin_2.24.32-1ubuntu1_amd64.deb ...\n",
            "Unpacking libgtk2.0-bin (2.24.32-1ubuntu1) ...\n",
            "Selecting previously unselected package openjdk-8-jre-headless:amd64.\n",
            "Preparing to unpack .../11-openjdk-8-jre-headless_8u292-b10-0ubuntu1~18.04_amd64.deb ...\n",
            "Unpacking openjdk-8-jre-headless:amd64 (8u292-b10-0ubuntu1~18.04) ...\n",
            "Selecting previously unselected package openjdk-8-jre:amd64.\n",
            "Preparing to unpack .../12-openjdk-8-jre_8u292-b10-0ubuntu1~18.04_amd64.deb ...\n",
            "Unpacking openjdk-8-jre:amd64 (8u292-b10-0ubuntu1~18.04) ...\n",
            "Selecting previously unselected package openjdk-8-jdk-headless:amd64.\n",
            "Preparing to unpack .../13-openjdk-8-jdk-headless_8u292-b10-0ubuntu1~18.04_amd64.deb ...\n",
            "Unpacking openjdk-8-jdk-headless:amd64 (8u292-b10-0ubuntu1~18.04) ...\n",
            "Selecting previously unselected package openjdk-8-jdk:amd64.\n",
            "Preparing to unpack .../14-openjdk-8-jdk_8u292-b10-0ubuntu1~18.04_amd64.deb ...\n",
            "Unpacking openjdk-8-jdk:amd64 (8u292-b10-0ubuntu1~18.04) ...\n",
            "Setting up libgtk2.0-common (2.24.32-1ubuntu1) ...\n",
            "Setting up fonts-dejavu-core (2.37-1) ...\n",
            "Setting up libxxf86dga1:amd64 (2:1.1.4-1) ...\n",
            "Setting up fonts-dejavu-extra (2.37-1) ...\n",
            "Setting up openjdk-8-jre-headless:amd64 (8u292-b10-0ubuntu1~18.04) ...\n",
            "update-alternatives: using /usr/lib/jvm/java-8-openjdk-amd64/jre/bin/orbd to provide /usr/bin/orbd (orbd) in auto mode\n",
            "update-alternatives: using /usr/lib/jvm/java-8-openjdk-amd64/jre/bin/servertool to provide /usr/bin/servertool (servertool) in auto mode\n",
            "update-alternatives: using /usr/lib/jvm/java-8-openjdk-amd64/jre/bin/tnameserv to provide /usr/bin/tnameserv (tnameserv) in auto mode\n",
            "Setting up libgtk2.0-0:amd64 (2.24.32-1ubuntu1) ...\n",
            "Setting up libgail18:amd64 (2.24.32-1ubuntu1) ...\n",
            "Setting up openjdk-8-jdk-headless:amd64 (8u292-b10-0ubuntu1~18.04) ...\n",
            "update-alternatives: using /usr/lib/jvm/java-8-openjdk-amd64/bin/idlj to provide /usr/bin/idlj (idlj) in auto mode\n",
            "update-alternatives: using /usr/lib/jvm/java-8-openjdk-amd64/bin/wsimport to provide /usr/bin/wsimport (wsimport) in auto mode\n",
            "update-alternatives: using /usr/lib/jvm/java-8-openjdk-amd64/bin/jsadebugd to provide /usr/bin/jsadebugd (jsadebugd) in auto mode\n",
            "update-alternatives: using /usr/lib/jvm/java-8-openjdk-amd64/bin/native2ascii to provide /usr/bin/native2ascii (native2ascii) in auto mode\n",
            "update-alternatives: using /usr/lib/jvm/java-8-openjdk-amd64/bin/javah to provide /usr/bin/javah (javah) in auto mode\n",
            "update-alternatives: using /usr/lib/jvm/java-8-openjdk-amd64/bin/hsdb to provide /usr/bin/hsdb (hsdb) in auto mode\n",
            "update-alternatives: using /usr/lib/jvm/java-8-openjdk-amd64/bin/clhsdb to provide /usr/bin/clhsdb (clhsdb) in auto mode\n",
            "update-alternatives: using /usr/lib/jvm/java-8-openjdk-amd64/bin/extcheck to provide /usr/bin/extcheck (extcheck) in auto mode\n",
            "update-alternatives: using /usr/lib/jvm/java-8-openjdk-amd64/bin/schemagen to provide /usr/bin/schemagen (schemagen) in auto mode\n",
            "update-alternatives: using /usr/lib/jvm/java-8-openjdk-amd64/bin/xjc to provide /usr/bin/xjc (xjc) in auto mode\n",
            "update-alternatives: using /usr/lib/jvm/java-8-openjdk-amd64/bin/jhat to provide /usr/bin/jhat (jhat) in auto mode\n",
            "update-alternatives: using /usr/lib/jvm/java-8-openjdk-amd64/bin/wsgen to provide /usr/bin/wsgen (wsgen) in auto mode\n",
            "Setting up x11-utils (7.7+3build1) ...\n",
            "Setting up libgail-common:amd64 (2.24.32-1ubuntu1) ...\n",
            "Setting up libatk-wrapper-java (0.33.3-20ubuntu0.1) ...\n",
            "Setting up libgtk2.0-bin (2.24.32-1ubuntu1) ...\n",
            "Setting up libatk-wrapper-java-jni:amd64 (0.33.3-20ubuntu0.1) ...\n",
            "Setting up openjdk-8-jre:amd64 (8u292-b10-0ubuntu1~18.04) ...\n",
            "update-alternatives: using /usr/lib/jvm/java-8-openjdk-amd64/jre/bin/policytool to provide /usr/bin/policytool (policytool) in auto mode\n",
            "Setting up openjdk-8-jdk:amd64 (8u292-b10-0ubuntu1~18.04) ...\n",
            "update-alternatives: using /usr/lib/jvm/java-8-openjdk-amd64/bin/appletviewer to provide /usr/bin/appletviewer (appletviewer) in auto mode\n",
            "update-alternatives: using /usr/lib/jvm/java-8-openjdk-amd64/bin/jconsole to provide /usr/bin/jconsole (jconsole) in auto mode\n",
            "Processing triggers for man-db (2.8.3-2ubuntu0.1) ...\n",
            "Processing triggers for hicolor-icon-theme (0.17-2) ...\n",
            "Processing triggers for fontconfig (2.12.6-0ubuntu2) ...\n",
            "Processing triggers for mime-support (3.60ubuntu1) ...\n",
            "Processing triggers for libc-bin (2.27-3ubuntu1.3) ...\n",
            "/sbin/ldconfig.real: /usr/local/lib/python3.7/dist-packages/ideep4py/lib/libmkldnn.so.0 is not a symbolic link\n",
            "\n",
            "There are 2 choices for the alternative java (providing /usr/bin/java).\n",
            "\n",
            "  Selection    Path                                            Priority   Status\n",
            "------------------------------------------------------------\n",
            "* 0            /usr/lib/jvm/java-11-openjdk-amd64/bin/java      1111      auto mode\n",
            "  1            /usr/lib/jvm/java-11-openjdk-amd64/bin/java      1111      manual mode\n",
            "  2            /usr/lib/jvm/java-8-openjdk-amd64/jre/bin/java   1081      manual mode\n",
            "\n",
            "Press <enter> to keep the current choice[*], or type selection number: 2\n",
            "update-alternatives: using /usr/lib/jvm/java-8-openjdk-amd64/jre/bin/java to provide /usr/bin/java (java) in manual mode\n"
          ]
        }
      ]
    },
    {
      "cell_type": "code",
      "metadata": {
        "colab": {
          "base_uri": "https://localhost:8080/"
        },
        "id": "JY8-jrYwLTTK",
        "outputId": "c941dc02-bd71-41f7-902b-93bf503b68b7"
      },
      "source": [
        "# Sklearn and Pandas Setup\n",
        "\n",
        "import pandas as pd\n",
        "print(pd.__version__ == '1.1.5')\n",
        "import numpy as np \n",
        "import json\n",
        "import matplotlib\n",
        "import matplotlib.pyplot as plt\n",
        "from matplotlib import cm\n",
        "from datetime import datetime\n",
        "import glob\n",
        "import seaborn as sns\n",
        "import re\n",
        "import os\n",
        "from sklearn.preprocessing import LabelEncoder"
      ],
      "execution_count": 2,
      "outputs": [
        {
          "output_type": "stream",
          "name": "stdout",
          "text": [
            "True\n"
          ]
        }
      ]
    },
    {
      "cell_type": "code",
      "metadata": {
        "colab": {
          "base_uri": "https://localhost:8080/"
        },
        "id": "B-RCVYh4Lczt",
        "outputId": "123f4319-47eb-4a61-96a5-d38bad59237d"
      },
      "source": [
        "!apt update\n",
        "!apt install gcc python-dev libkrb5-dev"
      ],
      "execution_count": 3,
      "outputs": [
        {
          "output_type": "stream",
          "name": "stdout",
          "text": [
            "\u001b[33m\r0% [Working]\u001b[0m\r            \rGet:1 https://cloud.r-project.org/bin/linux/ubuntu bionic-cran40/ InRelease [3,626 B]\n",
            "\u001b[33m\r0% [Connecting to archive.ubuntu.com (91.189.88.152)] [Connecting to security.u\u001b[0m\u001b[33m\r0% [Connecting to archive.ubuntu.com (91.189.88.152)] [Connecting to security.u\u001b[0m\u001b[33m\r0% [1 InRelease gpgv 3,626 B] [Connecting to archive.ubuntu.com (91.189.88.152)\u001b[0m\r                                                                               \rIgn:2 https://developer.download.nvidia.com/compute/cuda/repos/ubuntu1804/x86_64  InRelease\n",
            "\u001b[33m\r0% [1 InRelease gpgv 3,626 B] [Waiting for headers] [Waiting for headers] [Wait\u001b[0m\r                                                                               \rGet:3 http://security.ubuntu.com/ubuntu bionic-security InRelease [88.7 kB]\n",
            "\u001b[33m\r0% [1 InRelease gpgv 3,626 B] [Waiting for headers] [3 InRelease 14.2 kB/88.7 k\u001b[0m\r                                                                               \rGet:4 http://ppa.launchpad.net/c2d4u.team/c2d4u4.0+/ubuntu bionic InRelease [15.9 kB]\n",
            "\u001b[33m\r0% [1 InRelease gpgv 3,626 B] [Waiting for headers] [3 InRelease 14.2 kB/88.7 k\u001b[0m\r                                                                               \rHit:5 http://archive.ubuntu.com/ubuntu bionic InRelease\n",
            "\u001b[33m\r0% [1 InRelease gpgv 3,626 B] [Waiting for headers] [3 InRelease 14.2 kB/88.7 k\u001b[0m\r                                                                               \rIgn:6 https://developer.download.nvidia.com/compute/machine-learning/repos/ubuntu1804/x86_64  InRelease\n",
            "\u001b[33m\r0% [1 InRelease gpgv 3,626 B] [Waiting for headers] [3 InRelease 14.2 kB/88.7 k\u001b[0m\r                                                                               \rHit:7 https://developer.download.nvidia.com/compute/cuda/repos/ubuntu1804/x86_64  Release\n",
            "\u001b[33m\r0% [1 InRelease gpgv 3,626 B] [Waiting for headers] [3 InRelease 14.2 kB/88.7 k\u001b[0m\r                                                                               \rHit:8 https://developer.download.nvidia.com/compute/machine-learning/repos/ubuntu1804/x86_64  Release\n",
            "Get:9 http://archive.ubuntu.com/ubuntu bionic-updates InRelease [88.7 kB]\n",
            "Hit:10 http://ppa.launchpad.net/cran/libgit2/ubuntu bionic InRelease\n",
            "Get:11 http://archive.ubuntu.com/ubuntu bionic-backports InRelease [74.6 kB]\n",
            "Hit:12 http://ppa.launchpad.net/deadsnakes/ppa/ubuntu bionic InRelease\n",
            "Hit:13 http://ppa.launchpad.net/graphics-drivers/ppa/ubuntu bionic InRelease\n",
            "Get:16 http://ppa.launchpad.net/c2d4u.team/c2d4u4.0+/ubuntu bionic/main Sources [1,819 kB]\n",
            "Get:17 http://security.ubuntu.com/ubuntu bionic-security/universe amd64 Packages [1,446 kB]\n",
            "Get:18 http://security.ubuntu.com/ubuntu bionic-security/restricted amd64 Packages [691 kB]\n",
            "Get:19 http://security.ubuntu.com/ubuntu bionic-security/main amd64 Packages [2,461 kB]\n",
            "Get:20 http://ppa.launchpad.net/c2d4u.team/c2d4u4.0+/ubuntu bionic/main amd64 Packages [933 kB]\n",
            "Get:21 http://archive.ubuntu.com/ubuntu bionic-updates/main amd64 Packages [2,898 kB]\n",
            "Get:22 http://archive.ubuntu.com/ubuntu bionic-updates/universe amd64 Packages [2,227 kB]\n",
            "Fetched 12.7 MB in 3s (3,761 kB/s)\n",
            "Reading package lists... Done\n",
            "Building dependency tree       \n",
            "Reading state information... Done\n",
            "57 packages can be upgraded. Run 'apt list --upgradable' to see them.\n",
            "Reading package lists... Done\n",
            "Building dependency tree       \n",
            "Reading state information... Done\n",
            "python-dev is already the newest version (2.7.15~rc1-1).\n",
            "gcc is already the newest version (4:7.4.0-1ubuntu2.3).\n",
            "gcc set to manually installed.\n",
            "The following additional packages will be installed:\n",
            "  comerr-dev krb5-multidev libgssrpc4 libkadm5clnt-mit11 libkadm5srv-mit11\n",
            "  libkdb5-9\n",
            "Suggested packages:\n",
            "  doc-base krb5-doc krb5-user\n",
            "The following NEW packages will be installed:\n",
            "  comerr-dev krb5-multidev libgssrpc4 libkadm5clnt-mit11 libkadm5srv-mit11\n",
            "  libkdb5-9 libkrb5-dev\n",
            "0 upgraded, 7 newly installed, 0 to remove and 57 not upgraded.\n",
            "Need to get 349 kB of archives.\n",
            "After this operation, 1,992 kB of additional disk space will be used.\n",
            "Get:1 http://archive.ubuntu.com/ubuntu bionic-updates/main amd64 libgssrpc4 amd64 1.16-2ubuntu0.2 [54.4 kB]\n",
            "Get:2 http://archive.ubuntu.com/ubuntu bionic-updates/main amd64 libkdb5-9 amd64 1.16-2ubuntu0.2 [37.3 kB]\n",
            "Get:3 http://archive.ubuntu.com/ubuntu bionic-updates/main amd64 libkadm5srv-mit11 amd64 1.16-2ubuntu0.2 [49.7 kB]\n",
            "Get:4 http://archive.ubuntu.com/ubuntu bionic-updates/main amd64 libkadm5clnt-mit11 amd64 1.16-2ubuntu0.2 [38.0 kB]\n",
            "Get:5 http://archive.ubuntu.com/ubuntu bionic-updates/main amd64 comerr-dev amd64 2.1-1.44.1-1ubuntu1.3 [38.5 kB]\n",
            "Get:6 http://archive.ubuntu.com/ubuntu bionic-updates/main amd64 krb5-multidev amd64 1.16-2ubuntu0.2 [120 kB]\n",
            "Get:7 http://archive.ubuntu.com/ubuntu bionic-updates/main amd64 libkrb5-dev amd64 1.16-2ubuntu0.2 [11.7 kB]\n",
            "Fetched 349 kB in 1s (525 kB/s)\n",
            "Selecting previously unselected package libgssrpc4:amd64.\n",
            "(Reading database ... 155798 files and directories currently installed.)\n",
            "Preparing to unpack .../0-libgssrpc4_1.16-2ubuntu0.2_amd64.deb ...\n",
            "Unpacking libgssrpc4:amd64 (1.16-2ubuntu0.2) ...\n",
            "Selecting previously unselected package libkdb5-9:amd64.\n",
            "Preparing to unpack .../1-libkdb5-9_1.16-2ubuntu0.2_amd64.deb ...\n",
            "Unpacking libkdb5-9:amd64 (1.16-2ubuntu0.2) ...\n",
            "Selecting previously unselected package libkadm5srv-mit11:amd64.\n",
            "Preparing to unpack .../2-libkadm5srv-mit11_1.16-2ubuntu0.2_amd64.deb ...\n",
            "Unpacking libkadm5srv-mit11:amd64 (1.16-2ubuntu0.2) ...\n",
            "Selecting previously unselected package libkadm5clnt-mit11:amd64.\n",
            "Preparing to unpack .../3-libkadm5clnt-mit11_1.16-2ubuntu0.2_amd64.deb ...\n",
            "Unpacking libkadm5clnt-mit11:amd64 (1.16-2ubuntu0.2) ...\n",
            "Selecting previously unselected package comerr-dev:amd64.\n",
            "Preparing to unpack .../4-comerr-dev_2.1-1.44.1-1ubuntu1.3_amd64.deb ...\n",
            "Unpacking comerr-dev:amd64 (2.1-1.44.1-1ubuntu1.3) ...\n",
            "Selecting previously unselected package krb5-multidev:amd64.\n",
            "Preparing to unpack .../5-krb5-multidev_1.16-2ubuntu0.2_amd64.deb ...\n",
            "Unpacking krb5-multidev:amd64 (1.16-2ubuntu0.2) ...\n",
            "Selecting previously unselected package libkrb5-dev:amd64.\n",
            "Preparing to unpack .../6-libkrb5-dev_1.16-2ubuntu0.2_amd64.deb ...\n",
            "Unpacking libkrb5-dev:amd64 (1.16-2ubuntu0.2) ...\n",
            "Setting up libgssrpc4:amd64 (1.16-2ubuntu0.2) ...\n",
            "Setting up comerr-dev:amd64 (2.1-1.44.1-1ubuntu1.3) ...\n",
            "Setting up libkdb5-9:amd64 (1.16-2ubuntu0.2) ...\n",
            "Setting up libkadm5srv-mit11:amd64 (1.16-2ubuntu0.2) ...\n",
            "Setting up libkadm5clnt-mit11:amd64 (1.16-2ubuntu0.2) ...\n",
            "Setting up krb5-multidev:amd64 (1.16-2ubuntu0.2) ...\n",
            "Setting up libkrb5-dev:amd64 (1.16-2ubuntu0.2) ...\n",
            "Processing triggers for man-db (2.8.3-2ubuntu0.1) ...\n",
            "Processing triggers for libc-bin (2.27-3ubuntu1.3) ...\n",
            "/sbin/ldconfig.real: /usr/local/lib/python3.7/dist-packages/ideep4py/lib/libmkldnn.so.0 is not a symbolic link\n",
            "\n"
          ]
        }
      ]
    },
    {
      "cell_type": "code",
      "metadata": {
        "colab": {
          "base_uri": "https://localhost:8080/",
          "height": 226
        },
        "id": "MuEtFAa6L-hk",
        "outputId": "5356b3d1-e2a6-4524-8da0-2010f96b1064"
      },
      "source": [
        "co2_df = pd.read_csv('/content/drive/MyDrive/CIS 545/545 Project/global_average_yearly_temp_with_features_clean.csv')\n",
        "co2_df.head(5)"
      ],
      "execution_count": 4,
      "outputs": [
        {
          "output_type": "execute_result",
          "data": {
            "text/html": [
              "<div>\n",
              "<style scoped>\n",
              "    .dataframe tbody tr th:only-of-type {\n",
              "        vertical-align: middle;\n",
              "    }\n",
              "\n",
              "    .dataframe tbody tr th {\n",
              "        vertical-align: top;\n",
              "    }\n",
              "\n",
              "    .dataframe thead th {\n",
              "        text-align: right;\n",
              "    }\n",
              "</style>\n",
              "<table border=\"1\" class=\"dataframe\">\n",
              "  <thead>\n",
              "    <tr style=\"text-align: right;\">\n",
              "      <th></th>\n",
              "      <th>iso_code</th>\n",
              "      <th>year</th>\n",
              "      <th>oil_co2_per_capita</th>\n",
              "      <th>oil_co2</th>\n",
              "      <th>share_global_oil_co2</th>\n",
              "      <th>cumulative_oil_co2</th>\n",
              "      <th>share_global_cumulative_oil_co2</th>\n",
              "      <th>co2_growth_abs</th>\n",
              "      <th>co2_per_capita</th>\n",
              "      <th>co2</th>\n",
              "      <th>share_global_co2</th>\n",
              "      <th>cumulative_co2</th>\n",
              "      <th>share_global_cumulative_co2</th>\n",
              "      <th>co2_growth_prct</th>\n",
              "      <th>population</th>\n",
              "      <th>AvgYearlyTemp</th>\n",
              "    </tr>\n",
              "  </thead>\n",
              "  <tbody>\n",
              "    <tr>\n",
              "      <th>0</th>\n",
              "      <td>FRA</td>\n",
              "      <td>1855</td>\n",
              "      <td>0.001</td>\n",
              "      <td>0.037</td>\n",
              "      <td>100.00</td>\n",
              "      <td>0.037</td>\n",
              "      <td>100.00</td>\n",
              "      <td>3.858</td>\n",
              "      <td>0.899</td>\n",
              "      <td>33.071</td>\n",
              "      <td>12.71</td>\n",
              "      <td>469.655</td>\n",
              "      <td>7.96</td>\n",
              "      <td>13.21</td>\n",
              "      <td>36768948.0</td>\n",
              "      <td>11.763583</td>\n",
              "    </tr>\n",
              "    <tr>\n",
              "      <th>1</th>\n",
              "      <td>FRA</td>\n",
              "      <td>1856</td>\n",
              "      <td>0.001</td>\n",
              "      <td>0.040</td>\n",
              "      <td>100.00</td>\n",
              "      <td>0.077</td>\n",
              "      <td>100.00</td>\n",
              "      <td>1.561</td>\n",
              "      <td>0.940</td>\n",
              "      <td>34.632</td>\n",
              "      <td>12.49</td>\n",
              "      <td>504.287</td>\n",
              "      <td>8.17</td>\n",
              "      <td>4.72</td>\n",
              "      <td>36853256.0</td>\n",
              "      <td>12.615917</td>\n",
              "    </tr>\n",
              "    <tr>\n",
              "      <th>2</th>\n",
              "      <td>FRA</td>\n",
              "      <td>1857</td>\n",
              "      <td>0.001</td>\n",
              "      <td>0.044</td>\n",
              "      <td>85.71</td>\n",
              "      <td>0.121</td>\n",
              "      <td>94.29</td>\n",
              "      <td>0.649</td>\n",
              "      <td>0.955</td>\n",
              "      <td>35.281</td>\n",
              "      <td>12.61</td>\n",
              "      <td>539.568</td>\n",
              "      <td>8.36</td>\n",
              "      <td>1.87</td>\n",
              "      <td>36937755.0</td>\n",
              "      <td>12.823250</td>\n",
              "    </tr>\n",
              "    <tr>\n",
              "      <th>3</th>\n",
              "      <td>FRA</td>\n",
              "      <td>1858</td>\n",
              "      <td>0.001</td>\n",
              "      <td>0.048</td>\n",
              "      <td>76.47</td>\n",
              "      <td>0.169</td>\n",
              "      <td>88.46</td>\n",
              "      <td>-0.685</td>\n",
              "      <td>0.934</td>\n",
              "      <td>34.595</td>\n",
              "      <td>12.17</td>\n",
              "      <td>574.163</td>\n",
              "      <td>8.52</td>\n",
              "      <td>-1.94</td>\n",
              "      <td>37022445.0</td>\n",
              "      <td>12.382083</td>\n",
              "    </tr>\n",
              "    <tr>\n",
              "      <th>4</th>\n",
              "      <td>FRA</td>\n",
              "      <td>1859</td>\n",
              "      <td>0.001</td>\n",
              "      <td>0.048</td>\n",
              "      <td>86.67</td>\n",
              "      <td>0.216</td>\n",
              "      <td>88.06</td>\n",
              "      <td>0.396</td>\n",
              "      <td>0.943</td>\n",
              "      <td>34.991</td>\n",
              "      <td>11.61</td>\n",
              "      <td>609.155</td>\n",
              "      <td>8.65</td>\n",
              "      <td>1.14</td>\n",
              "      <td>37110539.0</td>\n",
              "      <td>13.107500</td>\n",
              "    </tr>\n",
              "  </tbody>\n",
              "</table>\n",
              "</div>"
            ],
            "text/plain": [
              "  iso_code  year  ...  population  AvgYearlyTemp\n",
              "0      FRA  1855  ...  36768948.0      11.763583\n",
              "1      FRA  1856  ...  36853256.0      12.615917\n",
              "2      FRA  1857  ...  36937755.0      12.823250\n",
              "3      FRA  1858  ...  37022445.0      12.382083\n",
              "4      FRA  1859  ...  37110539.0      13.107500\n",
              "\n",
              "[5 rows x 16 columns]"
            ]
          },
          "metadata": {},
          "execution_count": 4
        }
      ]
    },
    {
      "cell_type": "code",
      "metadata": {
        "id": "ikcaV7X_oqMC"
      },
      "source": [
        "iso_codes = co2_df['iso_code']\n",
        "iso_codes_le = LabelEncoder()\n",
        "iso_codes_le.fit(iso_codes)\n",
        "co2_df['iso_code_labels'] = iso_codes_le.transform(co2_df['iso_code'])\n",
        "co2_le_df = co2_df[['iso_code_labels', 'year', 'oil_co2_per_capita', 'oil_co2',\n",
        "       'share_global_oil_co2', 'cumulative_oil_co2',\n",
        "       'share_global_cumulative_oil_co2', 'co2_growth_abs', 'co2_per_capita',\n",
        "       'co2', 'share_global_co2', 'cumulative_co2',\n",
        "       'share_global_cumulative_co2', 'co2_growth_prct', 'population',\n",
        "       'AvgYearlyTemp']]"
      ],
      "execution_count": 5,
      "outputs": []
    },
    {
      "cell_type": "code",
      "metadata": {
        "colab": {
          "base_uri": "https://localhost:8080/"
        },
        "id": "nygdKz7zpZ2z",
        "outputId": "c3aaebe9-e56b-466b-a40f-f34748cd561e"
      },
      "source": [
        "co2_le_df.dtypes"
      ],
      "execution_count": 6,
      "outputs": [
        {
          "output_type": "execute_result",
          "data": {
            "text/plain": [
              "iso_code_labels                      int64\n",
              "year                                 int64\n",
              "oil_co2_per_capita                 float64\n",
              "oil_co2                            float64\n",
              "share_global_oil_co2               float64\n",
              "cumulative_oil_co2                 float64\n",
              "share_global_cumulative_oil_co2    float64\n",
              "co2_growth_abs                     float64\n",
              "co2_per_capita                     float64\n",
              "co2                                float64\n",
              "share_global_co2                   float64\n",
              "cumulative_co2                     float64\n",
              "share_global_cumulative_co2        float64\n",
              "co2_growth_prct                    float64\n",
              "population                         float64\n",
              "AvgYearlyTemp                      float64\n",
              "dtype: object"
            ]
          },
          "metadata": {},
          "execution_count": 6
        }
      ]
    },
    {
      "cell_type": "code",
      "metadata": {
        "colab": {
          "base_uri": "https://localhost:8080/"
        },
        "id": "Z0FwXnAPNEqF",
        "outputId": "af0316f2-d51f-4b66-daed-b9b3fcf1d897"
      },
      "source": [
        "co2_maxes = [co2_le_df['iso_code_labels'].max(), co2_le_df['year'].max(),\n",
        "             co2_le_df['oil_co2_per_capita'].max(), co2_le_df['oil_co2'].max(), \n",
        "             co2_le_df['share_global_oil_co2'].max(), co2_le_df['cumulative_oil_co2'].max(),\n",
        "             co2_le_df['share_global_cumulative_oil_co2'].max(), co2_le_df['co2_growth_abs'].max(),\n",
        "             co2_le_df['co2_per_capita'].max(), co2_le_df['co2'].max(),\n",
        "             co2_le_df['share_global_co2'].max(), co2_le_df['cumulative_co2'].max(),\n",
        "             co2_le_df['co2_growth_prct'].max(),co2_le_df['population'].max(),\n",
        "             co2_le_df['AvgYearlyTemp'].max()]\n",
        "co2_mins = [co2_le_df['iso_code_labels'].min(), co2_le_df['year'].min(),\n",
        "            co2_le_df['oil_co2_per_capita'].min(), co2_le_df['oil_co2'].min(), \n",
        "            co2_le_df['share_global_oil_co2'].min(), co2_le_df['cumulative_oil_co2'].min(),\n",
        "            co2_le_df['share_global_cumulative_oil_co2'].min(), co2_le_df['co2_growth_abs'].min(),\n",
        "            co2_le_df['co2_per_capita'].min(), co2_le_df['co2'].min(),\n",
        "            co2_le_df['share_global_co2'].min(), co2_le_df['cumulative_co2'].min(),\n",
        "            co2_le_df['co2_growth_prct'].min(),co2_le_df['population'].min(),\n",
        "            co2_le_df['AvgYearlyTemp'].min()]\n",
        "co2_stds = [co2_le_df['iso_code_labels'].std(), co2_le_df['year'].std(),\n",
        "            co2_le_df['oil_co2_per_capita'].std(), co2_le_df['oil_co2'].std(), \n",
        "            co2_le_df['share_global_oil_co2'].std(), co2_le_df['cumulative_oil_co2'].std(),\n",
        "            co2_le_df['share_global_cumulative_oil_co2'].std(), co2_le_df['co2_growth_abs'].std(),\n",
        "            co2_le_df['co2_per_capita'].std(), co2_le_df['co2'].std(),\n",
        "            co2_le_df['share_global_co2'].std(), co2_le_df['cumulative_co2'].std(),\n",
        "            co2_le_df['co2_growth_prct'].std(),co2_le_df['population'].std(),\n",
        "            co2_le_df['AvgYearlyTemp'].std()]\n",
        "co2_means = [co2_le_df['iso_code_labels'].mean(), co2_le_df['year'].mean(),\n",
        "             co2_le_df['oil_co2_per_capita'].mean(), co2_le_df['oil_co2'].mean(), \n",
        "             co2_le_df['share_global_oil_co2'].mean(), co2_le_df['cumulative_oil_co2'].mean(),\n",
        "             co2_le_df['share_global_cumulative_oil_co2'].mean(), co2_le_df['co2_growth_abs'].mean(),\n",
        "             co2_le_df['co2_per_capita'].mean(), co2_le_df['co2'].mean(),\n",
        "             co2_le_df['share_global_co2'].mean(), co2_le_df['cumulative_co2'].mean(),\n",
        "             co2_le_df['co2_growth_prct'].mean(),co2_le_df['population'].mean(),\n",
        "             co2_le_df['AvgYearlyTemp'].mean()]\n",
        "print(co2_maxes)\n",
        "print(co2_mins)\n",
        "print(co2_stds)\n",
        "print(co2_means)"
      ],
      "execution_count": 7,
      "outputs": [
        {
          "output_type": "stream",
          "name": "stdout",
          "text": [
            "[169, 2013, 117.074, 1234.622, 100.0, 29636.441000000003, 100.0, 911.903, 117.074, 9952.744, 28.21, 164641.241, 20100.0, 1391883335.0, 30.74475]\n",
            "[0, 1855, 0.0, 0.0, 0.0, 0.0, 0.0, -484.209, 0.0, 0.001, 0.0, 0.005, -97.31, 1606.0, -20.446833333333327]\n",
            "[49.141037979806526, 36.31320850309408, 5.069324021416378, 65.53871129465425, 2.00414917301564, 1760.8809615665916, 2.048854425789231, 20.647831755660107, 7.501548129944552, 280.1851562747391, 1.6539905741050949, 6989.705089669289, 261.01291368905214, 97458627.968185, 9.51062917030768]\n",
            "[84.59564344658389, 1965.7389785146086, 2.031057988253668, 19.816517879711462, 0.4445424132035285, 492.1741074269563, 0.4054323098654781, 1.8169498178574193, 3.848366218125045, 57.6736932570069, 0.4725031596164261, 1752.669691844469, 16.451691324065184, 23887302.032042228, 17.041792875581358]\n"
          ]
        }
      ]
    },
    {
      "cell_type": "code",
      "metadata": {
        "colab": {
          "base_uri": "https://localhost:8080/"
        },
        "id": "XivPrTNsFPid",
        "outputId": "dee51ab1-c43b-4cb3-905b-812deb4c1366"
      },
      "source": [
        "print(co2_maxes[14])\n",
        "print(co2_mins[14])"
      ],
      "execution_count": 8,
      "outputs": [
        {
          "output_type": "stream",
          "name": "stdout",
          "text": [
            "30.74475\n",
            "-20.446833333333327\n"
          ]
        }
      ]
    },
    {
      "cell_type": "code",
      "metadata": {
        "colab": {
          "base_uri": "https://localhost:8080/",
          "height": 440
        },
        "id": "jMLcnd4MMrD3",
        "outputId": "5d8ccb65-a3df-4658-c440-c0123a2946fa"
      },
      "source": [
        "co2_corr = co2_df.corr()\n",
        "sns.heatmap(co2_corr)"
      ],
      "execution_count": 9,
      "outputs": [
        {
          "output_type": "execute_result",
          "data": {
            "text/plain": [
              "<matplotlib.axes._subplots.AxesSubplot at 0x7fdd69a05450>"
            ]
          },
          "metadata": {},
          "execution_count": 9
        },
        {
          "output_type": "display_data",
          "data": {
            "image/png": "[encoded data removed]",
            "text/plain": [
              "<Figure size 432x288 with 2 Axes>"
            ]
          },
          "metadata": {
            "needs_background": "light"
          }
        }
      ]
    },
    {
      "cell_type": "markdown",
      "metadata": {
        "id": "04CabRPxPSj4"
      },
      "source": [
        "*   High correlation between cumulative_co2 and {oil_o2, cumulative_oil_co2}\n",
        "*   High correlation between co2_per_capita and oil_co2_per_capita\n",
        "*   Correlation between population and co2\n",
        "*   Low correlation between AvgYearlyTemp and all features except year"
      ]
    },
    {
      "cell_type": "code",
      "metadata": {
        "id": "OhZXpfL5qiRt"
      },
      "source": [
        "combined_data_sec_2 = co2_le_df.copy()\n",
        "combined_data_sec_2.rename(columns = {'views_log':'label'}, inplace = True) \n",
        "combined_data_sec_2.to_csv('/content/co2_le.csv')"
      ],
      "execution_count": 10,
      "outputs": []
    },
    {
      "cell_type": "markdown",
      "metadata": {
        "id": "QND0qMl3mzAi"
      },
      "source": [
        "# Modelling"
      ]
    },
    {
      "cell_type": "code",
      "metadata": {
        "colab": {
          "base_uri": "https://localhost:8080/"
        },
        "id": "1VT9mcHBmyje",
        "outputId": "b34fa3d8-c53d-4a70-c906-2a5d3819617f"
      },
      "source": [
        "!apt install libkrb5-dev\n",
        "!wget https://downloads.apache.org/spark/spark-3.1.2/spark-3.1.2-bin-hadoop3.2.tgz\n",
        "!tar xf spark-3.1.2-bin-hadoop3.2.tgz\n",
        "!pip install findspark\n",
        "!pip install sparkmagic\n",
        "!pip install pyspark\n",
        "! pip install pyspark --user\n",
        "! pip install seaborn --user\n",
        "! pip install plotly --user\n",
        "! pip install imageio --user\n",
        "! pip install folium --user"
      ],
      "execution_count": 11,
      "outputs": [
        {
          "output_type": "stream",
          "name": "stdout",
          "text": [
            "Reading package lists... Done\n",
            "Building dependency tree       \n",
            "Reading state information... Done\n",
            "libkrb5-dev is already the newest version (1.16-2ubuntu0.2).\n",
            "0 upgraded, 0 newly installed, 0 to remove and 57 not upgraded.\n",
            "--2021-12-07 21:12:03--  https://downloads.apache.org/spark/spark-3.1.2/spark-3.1.2-bin-hadoop3.2.tgz\n",
            "Resolving downloads.apache.org (downloads.apache.org)... 135.181.214.104, 88.99.95.219, 2a01:4f9:3a:2c57::2, ...\n",
            "Connecting to downloads.apache.org (downloads.apache.org)|135.181.214.104|:443... connected.\n",
            "HTTP request sent, awaiting response... 200 OK\n",
            "Length: 228834641 (218M) [application/x-gzip]\n",
            "Saving to: ‘spark-3.1.2-bin-hadoop3.2.tgz’\n",
            "\n",
            "spark-3.1.2-bin-had 100%[===================>] 218.23M  28.7MB/s    in 8.3s    \n",
            "\n",
            "2021-12-07 21:12:12 (26.3 MB/s) - ‘spark-3.1.2-bin-hadoop3.2.tgz’ saved [228834641/228834641]\n",
            "\n",
            "Collecting findspark\n",
            "  Downloading findspark-1.4.2-py2.py3-none-any.whl (4.2 kB)\n",
            "Installing collected packages: findspark\n",
            "Successfully installed findspark-1.4.2\n",
            "Collecting sparkmagic\n",
            "  Downloading sparkmagic-0.19.1.tar.gz (43 kB)\n",
            "\u001b[K     |████████████████████████████████| 43 kB 1.4 MB/s \n",
            "\u001b[?25hCollecting hdijupyterutils>=0.6\n",
            "  Downloading hdijupyterutils-0.19.1.tar.gz (5.0 kB)\n",
            "Collecting autovizwidget>=0.6\n",
            "  Downloading autovizwidget-0.19.1.tar.gz (8.7 kB)\n",
            "Requirement already satisfied: ipython>=4.0.2 in /usr/local/lib/python3.7/dist-packages (from sparkmagic) (5.5.0)\n",
            "Collecting nose\n",
            "  Downloading nose-1.3.7-py3-none-any.whl (154 kB)\n",
            "\u001b[K     |████████████████████████████████| 154 kB 47.2 MB/s \n",
            "\u001b[?25hCollecting mock\n",
            "  Downloading mock-4.0.3-py3-none-any.whl (28 kB)\n",
            "Requirement already satisfied: pandas>=0.17.1 in /usr/local/lib/python3.7/dist-packages (from sparkmagic) (1.1.5)\n",
            "Requirement already satisfied: numpy in /usr/local/lib/python3.7/dist-packages (from sparkmagic) (1.19.5)\n",
            "Requirement already satisfied: requests in /usr/local/lib/python3.7/dist-packages (from sparkmagic) (2.23.0)\n",
            "Requirement already satisfied: ipykernel<6.0.0 in /usr/local/lib/python3.7/dist-packages (from sparkmagic) (4.10.1)\n",
            "Requirement already satisfied: ipywidgets>5.0.0 in /usr/local/lib/python3.7/dist-packages (from sparkmagic) (7.6.5)\n",
            "Requirement already satisfied: notebook>=4.2 in /usr/local/lib/python3.7/dist-packages (from sparkmagic) (5.3.1)\n",
            "Requirement already satisfied: tornado>=4 in /usr/local/lib/python3.7/dist-packages (from sparkmagic) (5.1.1)\n",
            "Collecting requests_kerberos>=0.8.0\n",
            "  Downloading requests_kerberos-0.14.0-py2.py3-none-any.whl (11 kB)\n",
            "Requirement already satisfied: plotly>=3 in /usr/local/lib/python3.7/dist-packages (from autovizwidget>=0.6->sparkmagic) (4.4.1)\n",
            "Requirement already satisfied: jupyter>=1 in /usr/local/lib/python3.7/dist-packages (from hdijupyterutils>=0.6->sparkmagic) (1.0.0)\n",
            "Requirement already satisfied: jupyter-client in /usr/local/lib/python3.7/dist-packages (from ipykernel<6.0.0->sparkmagic) (5.3.5)\n",
            "Requirement already satisfied: traitlets>=4.1.0 in /usr/local/lib/python3.7/dist-packages (from ipykernel<6.0.0->sparkmagic) (5.1.1)\n",
            "Requirement already satisfied: pexpect in /usr/local/lib/python3.7/dist-packages (from ipython>=4.0.2->sparkmagic) (4.8.0)\n",
            "Requirement already satisfied: prompt-toolkit<2.0.0,>=1.0.4 in /usr/local/lib/python3.7/dist-packages (from ipython>=4.0.2->sparkmagic) (1.0.18)\n",
            "Requirement already satisfied: setuptools>=18.5 in /usr/local/lib/python3.7/dist-packages (from ipython>=4.0.2->sparkmagic) (57.4.0)\n",
            "Requirement already satisfied: simplegeneric>0.8 in /usr/local/lib/python3.7/dist-packages (from ipython>=4.0.2->sparkmagic) (0.8.1)\n",
            "Requirement already satisfied: decorator in /usr/local/lib/python3.7/dist-packages (from ipython>=4.0.2->sparkmagic) (4.4.2)\n",
            "Requirement already satisfied: pickleshare in /usr/local/lib/python3.7/dist-packages (from ipython>=4.0.2->sparkmagic) (0.7.5)\n",
            "Requirement already satisfied: pygments in /usr/local/lib/python3.7/dist-packages (from ipython>=4.0.2->sparkmagic) (2.6.1)\n",
            "Requirement already satisfied: jupyterlab-widgets>=1.0.0 in /usr/local/lib/python3.7/dist-packages (from ipywidgets>5.0.0->sparkmagic) (1.0.2)\n",
            "Requirement already satisfied: widgetsnbextension~=3.5.0 in /usr/local/lib/python3.7/dist-packages (from ipywidgets>5.0.0->sparkmagic) (3.5.2)\n",
            "Requirement already satisfied: ipython-genutils~=0.2.0 in /usr/local/lib/python3.7/dist-packages (from ipywidgets>5.0.0->sparkmagic) (0.2.0)\n",
            "Requirement already satisfied: nbformat>=4.2.0 in /usr/local/lib/python3.7/dist-packages (from ipywidgets>5.0.0->sparkmagic) (5.1.3)\n",
            "Requirement already satisfied: nbconvert in /usr/local/lib/python3.7/dist-packages (from jupyter>=1->hdijupyterutils>=0.6->sparkmagic) (5.6.1)\n",
            "Requirement already satisfied: jupyter-console in /usr/local/lib/python3.7/dist-packages (from jupyter>=1->hdijupyterutils>=0.6->sparkmagic) (5.2.0)\n",
            "Requirement already satisfied: qtconsole in /usr/local/lib/python3.7/dist-packages (from jupyter>=1->hdijupyterutils>=0.6->sparkmagic) (5.2.1)\n",
            "Requirement already satisfied: jsonschema!=2.5.0,>=2.4 in /usr/local/lib/python3.7/dist-packages (from nbformat>=4.2.0->ipywidgets>5.0.0->sparkmagic) (2.6.0)\n",
            "Requirement already satisfied: jupyter-core in /usr/local/lib/python3.7/dist-packages (from nbformat>=4.2.0->ipywidgets>5.0.0->sparkmagic) (4.9.1)\n",
            "Requirement already satisfied: terminado>=0.8.1 in /usr/local/lib/python3.7/dist-packages (from notebook>=4.2->sparkmagic) (0.12.1)\n",
            "Requirement already satisfied: Send2Trash in /usr/local/lib/python3.7/dist-packages (from notebook>=4.2->sparkmagic) (1.8.0)\n",
            "Requirement already satisfied: jinja2 in /usr/local/lib/python3.7/dist-packages (from notebook>=4.2->sparkmagic) (2.11.3)\n",
            "Requirement already satisfied: pyzmq>=13 in /usr/local/lib/python3.7/dist-packages (from jupyter-client->ipykernel<6.0.0->sparkmagic) (22.3.0)\n",
            "Requirement already satisfied: python-dateutil>=2.1 in /usr/local/lib/python3.7/dist-packages (from jupyter-client->ipykernel<6.0.0->sparkmagic) (2.8.2)\n",
            "Requirement already satisfied: pytz>=2017.2 in /usr/local/lib/python3.7/dist-packages (from pandas>=0.17.1->sparkmagic) (2018.9)\n",
            "Requirement already satisfied: six in /usr/local/lib/python3.7/dist-packages (from plotly>=3->autovizwidget>=0.6->sparkmagic) (1.15.0)\n",
            "Requirement already satisfied: retrying>=1.3.3 in /usr/local/lib/python3.7/dist-packages (from plotly>=3->autovizwidget>=0.6->sparkmagic) (1.3.3)\n",
            "Requirement already satisfied: wcwidth in /usr/local/lib/python3.7/dist-packages (from prompt-toolkit<2.0.0,>=1.0.4->ipython>=4.0.2->sparkmagic) (0.2.5)\n",
            "Collecting pyspnego[kerberos]\n",
            "  Downloading pyspnego-0.3.1-py2.py3-none-any.whl (110 kB)\n",
            "\u001b[K     |████████████████████████████████| 110 kB 54.6 MB/s \n",
            "\u001b[?25hCollecting cryptography>=1.3\n",
            "  Downloading cryptography-36.0.0-cp36-abi3-manylinux_2_24_x86_64.whl (3.6 MB)\n",
            "\u001b[K     |████████████████████████████████| 3.6 MB 37.8 MB/s \n",
            "\u001b[?25hRequirement already satisfied: cffi>=1.12 in /usr/local/lib/python3.7/dist-packages (from cryptography>=1.3->requests_kerberos>=0.8.0->sparkmagic) (1.15.0)\n",
            "Requirement already satisfied: pycparser in /usr/local/lib/python3.7/dist-packages (from cffi>=1.12->cryptography>=1.3->requests_kerberos>=0.8.0->sparkmagic) (2.21)\n",
            "Requirement already satisfied: urllib3!=1.25.0,!=1.25.1,<1.26,>=1.21.1 in /usr/local/lib/python3.7/dist-packages (from requests->sparkmagic) (1.24.3)\n",
            "Requirement already satisfied: certifi>=2017.4.17 in /usr/local/lib/python3.7/dist-packages (from requests->sparkmagic) (2021.10.8)\n",
            "Requirement already satisfied: idna<3,>=2.5 in /usr/local/lib/python3.7/dist-packages (from requests->sparkmagic) (2.10)\n",
            "Requirement already satisfied: chardet<4,>=3.0.2 in /usr/local/lib/python3.7/dist-packages (from requests->sparkmagic) (3.0.4)\n",
            "Requirement already satisfied: ptyprocess in /usr/local/lib/python3.7/dist-packages (from terminado>=0.8.1->notebook>=4.2->sparkmagic) (0.7.0)\n",
            "Requirement already satisfied: MarkupSafe>=0.23 in /usr/local/lib/python3.7/dist-packages (from jinja2->notebook>=4.2->sparkmagic) (2.0.1)\n",
            "Requirement already satisfied: defusedxml in /usr/local/lib/python3.7/dist-packages (from nbconvert->jupyter>=1->hdijupyterutils>=0.6->sparkmagic) (0.7.1)\n",
            "Requirement already satisfied: testpath in /usr/local/lib/python3.7/dist-packages (from nbconvert->jupyter>=1->hdijupyterutils>=0.6->sparkmagic) (0.5.0)\n",
            "Requirement already satisfied: bleach in /usr/local/lib/python3.7/dist-packages (from nbconvert->jupyter>=1->hdijupyterutils>=0.6->sparkmagic) (4.1.0)\n",
            "Requirement already satisfied: pandocfilters>=1.4.1 in /usr/local/lib/python3.7/dist-packages (from nbconvert->jupyter>=1->hdijupyterutils>=0.6->sparkmagic) (1.5.0)\n",
            "Requirement already satisfied: mistune<2,>=0.8.1 in /usr/local/lib/python3.7/dist-packages (from nbconvert->jupyter>=1->hdijupyterutils>=0.6->sparkmagic) (0.8.4)\n",
            "Requirement already satisfied: entrypoints>=0.2.2 in /usr/local/lib/python3.7/dist-packages (from nbconvert->jupyter>=1->hdijupyterutils>=0.6->sparkmagic) (0.3)\n",
            "Requirement already satisfied: packaging in /usr/local/lib/python3.7/dist-packages (from bleach->nbconvert->jupyter>=1->hdijupyterutils>=0.6->sparkmagic) (21.3)\n",
            "Requirement already satisfied: webencodings in /usr/local/lib/python3.7/dist-packages (from bleach->nbconvert->jupyter>=1->hdijupyterutils>=0.6->sparkmagic) (0.5.1)\n",
            "Requirement already satisfied: pyparsing!=3.0.5,>=2.0.2 in /usr/local/lib/python3.7/dist-packages (from packaging->bleach->nbconvert->jupyter>=1->hdijupyterutils>=0.6->sparkmagic) (3.0.6)\n",
            "Collecting gssapi>=1.5.0\n",
            "  Downloading gssapi-1.7.2.tar.gz (1.2 MB)\n",
            "\u001b[K     |████████████████████████████████| 1.2 MB 47.0 MB/s \n",
            "\u001b[?25hCollecting krb5\n",
            "  Downloading krb5-0.2.0.tar.gz (1.1 MB)\n",
            "\u001b[K     |████████████████████████████████| 1.1 MB 48.7 MB/s \n",
            "\u001b[?25h  Installing build dependencies ... \u001b[?25l\u001b[?25hdone\n",
            "  Getting requirements to build wheel ... \u001b[?25l\u001b[?25hdone\n",
            "    Preparing wheel metadata ... \u001b[?25l\u001b[?25hdone\n",
            "Requirement already satisfied: qtpy in /usr/local/lib/python3.7/dist-packages (from qtconsole->jupyter>=1->hdijupyterutils>=0.6->sparkmagic) (1.11.2)\n",
            "Building wheels for collected packages: sparkmagic, autovizwidget, hdijupyterutils, gssapi, krb5\n",
            "  Building wheel for sparkmagic (setup.py) ... \u001b[?25l\u001b[?25hdone\n",
            "  Created wheel for sparkmagic: filename=sparkmagic-0.19.1-py3-none-any.whl size=64701 sha256=132423e0d6feb8bca0b9f52eb7a08520f274a0edff71af54e571ae5063474a16\n",
            "  Stored in directory: /root/.cache/pip/wheels/77/00/d5/153197547803fa423ee3d0a7a1ff19f138cbcc385a5d11e0dd\n",
            "  Building wheel for autovizwidget (setup.py) ... \u001b[?25l\u001b[?25hdone\n",
            "  Created wheel for autovizwidget: filename=autovizwidget-0.19.1-py3-none-any.whl size=14544 sha256=a0456cccd68deb6080cc3f92c4d267d38776796d3127fe0f0e6a521f983e96ac\n",
            "  Stored in directory: /root/.cache/pip/wheels/09/76/d9/ff313b7bd4ff55b1ff8c299f31889f525dc5129556853e1330\n",
            "  Building wheel for hdijupyterutils (setup.py) ... \u001b[?25l\u001b[?25hdone\n",
            "  Created wheel for hdijupyterutils: filename=hdijupyterutils-0.19.1-py3-none-any.whl size=7675 sha256=a5afb458f5f76e7a3b5cca1725b9d633528bd23c1934dd091be6e0a9df71db1b\n",
            "  Stored in directory: /root/.cache/pip/wheels/18/64/eb/292698b4780fb4eed0d7521f8e8acac011eda244f368b88aa0\n",
            "  Building wheel for gssapi (setup.py) ... \u001b[?25l\u001b[?25hdone\n",
            "  Created wheel for gssapi: filename=gssapi-1.7.2-cp37-cp37m-linux_x86_64.whl size=2742801 sha256=39a994e2b18899462418513f66aa7246cbe3dfe36362f6ea68ae494f2fa7f675\n",
            "  Stored in directory: /root/.cache/pip/wheels/7d/4a/6e/8842dfec4065ade6e79c0bd2c27217fec1d7f14d0b32452a8f\n",
            "  Building wheel for krb5 (PEP 517) ... \u001b[?25l\u001b[?25hdone\n",
            "  Created wheel for krb5: filename=krb5-0.2.0-cp37-cp37m-linux_x86_64.whl size=1708001 sha256=e44b40bb7eb62c29504c7544d8ba5380ebf9bff1dc8379acee1586b9c3c456a2\n",
            "  Stored in directory: /root/.cache/pip/wheels/09/f9/57/67fd688ebb69ae46210f945dbe258cc694c7697e698267d461\n",
            "Successfully built sparkmagic autovizwidget hdijupyterutils gssapi krb5\n",
            "Installing collected packages: cryptography, pyspnego, nose, mock, krb5, gssapi, hdijupyterutils, requests-kerberos, autovizwidget, sparkmagic\n",
            "Successfully installed autovizwidget-0.19.1 cryptography-36.0.0 gssapi-1.7.2 hdijupyterutils-0.19.1 krb5-0.2.0 mock-4.0.3 nose-1.3.7 pyspnego-0.3.1 requests-kerberos-0.14.0 sparkmagic-0.19.1\n",
            "Collecting pyspark\n",
            "  Downloading pyspark-3.2.0.tar.gz (281.3 MB)\n",
            "\u001b[K     |████████████████████████████████| 281.3 MB 39 kB/s \n",
            "\u001b[?25hCollecting py4j==0.10.9.2\n",
            "  Downloading py4j-0.10.9.2-py2.py3-none-any.whl (198 kB)\n",
            "\u001b[K     |████████████████████████████████| 198 kB 57.7 MB/s \n",
            "\u001b[?25hBuilding wheels for collected packages: pyspark\n",
            "  Building wheel for pyspark (setup.py) ... \u001b[?25l\u001b[?25hdone\n",
            "  Created wheel for pyspark: filename=pyspark-3.2.0-py2.py3-none-any.whl size=281805912 sha256=d6318245874c4dcf038360e289b0030252149eaea2fd0a828c823f689bec86a1\n",
            "  Stored in directory: /root/.cache/pip/wheels/0b/de/d2/9be5d59d7331c6c2a7c1b6d1a4f463ce107332b1ecd4e80718\n",
            "Successfully built pyspark\n",
            "Installing collected packages: py4j, pyspark\n",
            "Successfully installed py4j-0.10.9.2 pyspark-3.2.0\n",
            "Requirement already satisfied: pyspark in /usr/local/lib/python3.7/dist-packages (3.2.0)\n",
            "Requirement already satisfied: py4j==0.10.9.2 in /usr/local/lib/python3.7/dist-packages (from pyspark) (0.10.9.2)\n",
            "Requirement already satisfied: seaborn in /usr/local/lib/python3.7/dist-packages (0.11.2)\n",
            "Requirement already satisfied: scipy>=1.0 in /usr/local/lib/python3.7/dist-packages (from seaborn) (1.4.1)\n",
            "Requirement already satisfied: numpy>=1.15 in /usr/local/lib/python3.7/dist-packages (from seaborn) (1.19.5)\n",
            "Requirement already satisfied: pandas>=0.23 in /usr/local/lib/python3.7/dist-packages (from seaborn) (1.1.5)\n",
            "Requirement already satisfied: matplotlib>=2.2 in /usr/local/lib/python3.7/dist-packages (from seaborn) (3.2.2)\n",
            "Requirement already satisfied: kiwisolver>=1.0.1 in /usr/local/lib/python3.7/dist-packages (from matplotlib>=2.2->seaborn) (1.3.2)\n",
            "Requirement already satisfied: pyparsing!=2.0.4,!=2.1.2,!=2.1.6,>=2.0.1 in /usr/local/lib/python3.7/dist-packages (from matplotlib>=2.2->seaborn) (3.0.6)\n",
            "Requirement already satisfied: cycler>=0.10 in /usr/local/lib/python3.7/dist-packages (from matplotlib>=2.2->seaborn) (0.11.0)\n",
            "Requirement already satisfied: python-dateutil>=2.1 in /usr/local/lib/python3.7/dist-packages (from matplotlib>=2.2->seaborn) (2.8.2)\n",
            "Requirement already satisfied: pytz>=2017.2 in /usr/local/lib/python3.7/dist-packages (from pandas>=0.23->seaborn) (2018.9)\n",
            "Requirement already satisfied: six>=1.5 in /usr/local/lib/python3.7/dist-packages (from python-dateutil>=2.1->matplotlib>=2.2->seaborn) (1.15.0)\n",
            "Requirement already satisfied: plotly in /usr/local/lib/python3.7/dist-packages (4.4.1)\n",
            "Requirement already satisfied: retrying>=1.3.3 in /usr/local/lib/python3.7/dist-packages (from plotly) (1.3.3)\n",
            "Requirement already satisfied: six in /usr/local/lib/python3.7/dist-packages (from plotly) (1.15.0)\n",
            "Requirement already satisfied: imageio in /usr/local/lib/python3.7/dist-packages (2.4.1)\n",
            "Requirement already satisfied: pillow in /usr/local/lib/python3.7/dist-packages (from imageio) (7.1.2)\n",
            "Requirement already satisfied: numpy in /usr/local/lib/python3.7/dist-packages (from imageio) (1.19.5)\n",
            "Requirement already satisfied: folium in /usr/local/lib/python3.7/dist-packages (0.8.3)\n",
            "Requirement already satisfied: jinja2 in /usr/local/lib/python3.7/dist-packages (from folium) (2.11.3)\n",
            "Requirement already satisfied: requests in /usr/local/lib/python3.7/dist-packages (from folium) (2.23.0)\n",
            "Requirement already satisfied: branca>=0.3.0 in /usr/local/lib/python3.7/dist-packages (from folium) (0.4.2)\n",
            "Requirement already satisfied: six in /usr/local/lib/python3.7/dist-packages (from folium) (1.15.0)\n",
            "Requirement already satisfied: numpy in /usr/local/lib/python3.7/dist-packages (from folium) (1.19.5)\n",
            "Requirement already satisfied: MarkupSafe>=0.23 in /usr/local/lib/python3.7/dist-packages (from jinja2->folium) (2.0.1)\n",
            "Requirement already satisfied: urllib3!=1.25.0,!=1.25.1,<1.26,>=1.21.1 in /usr/local/lib/python3.7/dist-packages (from requests->folium) (1.24.3)\n",
            "Requirement already satisfied: idna<3,>=2.5 in /usr/local/lib/python3.7/dist-packages (from requests->folium) (2.10)\n",
            "Requirement already satisfied: chardet<4,>=3.0.2 in /usr/local/lib/python3.7/dist-packages (from requests->folium) (3.0.4)\n",
            "Requirement already satisfied: certifi>=2017.4.17 in /usr/local/lib/python3.7/dist-packages (from requests->folium) (2021.10.8)\n"
          ]
        }
      ]
    },
    {
      "cell_type": "code",
      "metadata": {
        "id": "qwV-fV24mwVl"
      },
      "source": [
        "from pyspark.sql import SparkSession\n",
        "from pyspark.sql.types import *\n",
        "import pyspark.sql.functions as F\n",
        "\n",
        "import os\n",
        "\n",
        "spark = SparkSession.builder.appName('ml-hw4').getOrCreate()"
      ],
      "execution_count": 12,
      "outputs": []
    },
    {
      "cell_type": "code",
      "metadata": {
        "id": "vbWSlygfmtrg"
      },
      "source": [
        "%load_ext sparkmagic.magics"
      ],
      "execution_count": 13,
      "outputs": []
    },
    {
      "cell_type": "code",
      "metadata": {
        "id": "hB3VKRCTmsGe"
      },
      "source": [
        "#graph section\n",
        "import networkx as nx\n",
        "# SQLite RDBMS\n",
        "import sqlite3\n",
        "# Parallel processing\n",
        "# import swifter\n",
        "import pandas as pd\n",
        "# NoSQL DB\n",
        "from pymongo import MongoClient\n",
        "from pymongo.errors import DuplicateKeyError, OperationFailure\n",
        "\n",
        "import os\n",
        "os.environ['SPARK_HOME'] = '/content/spark-3.1.2-bin-hadoop3.2'\n",
        "os.environ[\"JAVA_HOME\"] = \"/usr/lib/jvm/java-8-openjdk-amd64\"\n",
        "import pyspark\n",
        "from pyspark.sql import SQLContext"
      ],
      "execution_count": 14,
      "outputs": []
    },
    {
      "cell_type": "code",
      "metadata": {
        "id": "aUYTUadsmqYl"
      },
      "source": [
        "try:\n",
        "    if(spark == None):\n",
        "        spark = SparkSession.builder.appName('Initial').getOrCreate()\n",
        "        sqlContext=SQLContext(spark)\n",
        "except NameError:\n",
        "    spark = SparkSession.builder.appName('Initial').getOrCreate()\n",
        "    sqlContext=SQLContext(spark)"
      ],
      "execution_count": 15,
      "outputs": []
    },
    {
      "cell_type": "code",
      "metadata": {
        "colab": {
          "base_uri": "https://localhost:8080/"
        },
        "id": "oGo2eA9RmmiO",
        "outputId": "d32e1039-d19f-46e9-9742-273519ea0da3"
      },
      "source": [
        "train_sdf = spark.read.csv(\"/content/co2_le.csv\", header=True, inferSchema=True)\n",
        "train_sdf.show()"
      ],
      "execution_count": 16,
      "outputs": [
        {
          "output_type": "stream",
          "name": "stdout",
          "text": [
            "+---+---------------+----+------------------+--------------------+--------------------+--------------------+-------------------------------+--------------------+--------------------+--------------------+----------------+--------------------+---------------------------+---------------+-----------+------------------+\n",
            "|_c0|iso_code_labels|year|oil_co2_per_capita|             oil_co2|share_global_oil_co2|  cumulative_oil_co2|share_global_cumulative_oil_co2|      co2_growth_abs|      co2_per_capita|                 co2|share_global_co2|      cumulative_co2|share_global_cumulative_co2|co2_growth_prct| population|     AvgYearlyTemp|\n",
            "+---+---------------+----+------------------+--------------------+--------------------+--------------------+-------------------------------+--------------------+--------------------+--------------------+----------------+--------------------+---------------------------+---------------+-----------+------------------+\n",
            "|  0|             53|1855|             0.001|0.037000000000000005|               100.0|0.037000000000000005|                          100.0|               3.858|               0.899|              33.071|           12.71|             469.655|                       7.96|          13.21|3.6768948E7|11.763583333333335|\n",
            "|  1|             53|1856|             0.001|                0.04|               100.0|               0.077|                          100.0|               1.561|                0.94|              34.632|           12.49|             504.287|                       8.17|           4.72|3.6853256E7|12.615916666666665|\n",
            "|  2|             53|1857|             0.001|0.044000000000000004|               85.71|               0.121|                          94.29|               0.649|               0.955|              35.281|           12.61|             539.568|                       8.36|           1.87|3.6937755E7|12.823250000000002|\n",
            "|  3|             53|1858|             0.001|               0.048|               76.47| 0.16899999999999998|                          88.46|              -0.685|               0.934|              34.595|           12.17|             574.163|                       8.52|          -1.94|3.7022445E7|12.382083333333336|\n",
            "|  4|             53|1859|             0.001|               0.048|               86.67| 0.21600000000000003|                          88.06|               0.396|               0.943|              34.991|           11.61|             609.155|                       8.65|           1.14|3.7110539E7|           13.1075|\n",
            "|  5|            136|1859|               0.0|               0.004|                6.67|0.006999999999999999|                           2.99|                 0.0|                 0.0|               0.004|             0.0|0.006999999999999999|                        0.0|            0.0|  8499134.0| 9.252083333333333|\n",
            "|  6|              8|1860|               0.0|                 0.0|                0.05|                 0.0|                           0.03|                 0.0|               0.003|               0.002|             0.0|               0.005|                        0.0|          32.14|   594311.0| 8.464083333333333|\n",
            "|  7|             11|1860|             0.004|               0.005|                1.79|               0.005|                           0.94|               0.002|0.006999999999999999|0.009000000000000001|             0.0|0.028999999999999998|                        0.0|          32.15|  1268561.0|           11.0185|\n",
            "|  8|             20|1860|             0.001|               0.003|                0.92|               0.003|                           0.49|               0.005|               0.006|               0.019|            0.01|               0.061|                        0.0|          32.14|  3396680.0| 5.694416666666667|\n",
            "|  9|             49|1860|               0.0|                 0.0|                0.02|                 0.0|                           0.01|               0.002|0.013000000000000001|0.006999999999999999|             0.0|0.022000000000000002|                        0.0|          32.14|   540368.0| 4.418916666666667|\n",
            "| 10|             53|1860|             0.001|               0.048|                17.4|               0.264|                          50.82|                3.14|               1.025|              38.131|           11.53|             647.286|                       8.78|           8.97|3.7202052E7|11.752250000000002|\n",
            "| 11|             56|1860|               0.0|                 0.0|                 0.1|                 0.0|                           0.05|               0.001|               0.002|               0.003|             0.0|0.009000000000000001|                        0.0|           32.1|  1544908.0| 8.018333333333333|\n",
            "| 12|             83|1860|               0.0|                 0.0|                0.12|                 0.0|                           0.06|0.011000000000000001|               0.015|               0.045|            0.01|               0.146|                        0.0|          32.14|  2934178.0| 3.708083333333336|\n",
            "| 13|             85|1860|               0.0|                 0.0|                0.03|                 0.0|                           0.01|               0.001|               0.005|               0.004|             0.0|0.013000000000000001|                        0.0|          32.15|   763476.0|2.0403333333333333|\n",
            "| 14|             96|1860|             0.001|               0.001|                0.32|               0.001|                           0.17|               0.002|               0.005|0.006999999999999999|             0.0|               0.023|                        0.0|          32.13|  1401276.0| 5.662000000000001|\n",
            "| 15|             98|1860|               0.0|                 0.0|                0.16|                 0.0|                           0.08|               0.001|               0.004|               0.005|             0.0|               0.015|                        0.0|          32.14|  1130272.0| 5.015833333333334|\n",
            "| 16|            136|1860|               0.0|               0.004|                1.34|0.011000000000000001|                           2.12|                 0.0|                 0.0|               0.004|             0.0|0.011000000000000001|                        0.0|            0.0|  8556435.0| 8.930750000000002|\n",
            "| 17|            155|1860|               0.0|                 0.0|                0.05|                 0.0|                           0.03|               0.001|               0.003|               0.002|             0.0|               0.008|                        0.0|          32.11|   671264.0| 3.093166666666668|\n",
            "| 18|            156|1860|             0.002|               0.001|                0.35|               0.001|                           0.19|               0.001|0.011000000000000001|               0.006|             0.0|               0.019|                        0.0|          32.15|   528786.0|14.109666666666666|\n",
            "| 19|            162|1860|               0.0|               0.001|                0.48|               0.001|                           0.25|               0.032|               0.008|               0.131|            0.04| 0.42700000000000005|                       0.01|          32.14|1.6189352E7| 7.730083333333333|\n",
            "+---+---------------+----+------------------+--------------------+--------------------+--------------------+-------------------------------+--------------------+--------------------+--------------------+----------------+--------------------+---------------------------+---------------+-----------+------------------+\n",
            "only showing top 20 rows\n",
            "\n"
          ]
        }
      ]
    },
    {
      "cell_type": "code",
      "metadata": {
        "id": "Kyjb01yXmkO1"
      },
      "source": [
        "from pyspark.ml.feature import StringIndexer, VectorAssembler"
      ],
      "execution_count": 17,
      "outputs": []
    },
    {
      "cell_type": "code",
      "metadata": {
        "colab": {
          "base_uri": "https://localhost:8080/"
        },
        "id": "cEsiLxcfmgxY",
        "outputId": "5367e634-45c2-4476-f49a-df536710eaa0"
      },
      "source": [
        "train_sdf.columns"
      ],
      "execution_count": 18,
      "outputs": [
        {
          "output_type": "execute_result",
          "data": {
            "text/plain": [
              "['_c0',\n",
              " 'iso_code_labels',\n",
              " 'year',\n",
              " 'oil_co2_per_capita',\n",
              " 'oil_co2',\n",
              " 'share_global_oil_co2',\n",
              " 'cumulative_oil_co2',\n",
              " 'share_global_cumulative_oil_co2',\n",
              " 'co2_growth_abs',\n",
              " 'co2_per_capita',\n",
              " 'co2',\n",
              " 'share_global_co2',\n",
              " 'cumulative_co2',\n",
              " 'share_global_cumulative_co2',\n",
              " 'co2_growth_prct',\n",
              " 'population',\n",
              " 'AvgYearlyTemp']"
            ]
          },
          "metadata": {},
          "execution_count": 18
        }
      ]
    },
    {
      "cell_type": "markdown",
      "metadata": {
        "id": "a56faX5Iw1oD"
      },
      "source": [
        "## All columns as features"
      ]
    },
    {
      "cell_type": "code",
      "metadata": {
        "id": "gyfyRg1CrYxV"
      },
      "source": [
        "columns_to_use = ['iso_code_labels','year','oil_co2_per_capita','oil_co2','share_global_oil_co2',\n",
        "                  'cumulative_oil_co2','share_global_cumulative_oil_co2','co2_growth_abs',\n",
        "                  'co2_per_capita','co2','share_global_co2','cumulative_co2',\n",
        "                  'share_global_cumulative_co2','co2_growth_prct','population']"
      ],
      "execution_count": 19,
      "outputs": []
    },
    {
      "cell_type": "code",
      "metadata": {
        "id": "qNUTEbNvlJPJ"
      },
      "source": [
        "assembler = VectorAssembler(inputCols=columns_to_use, outputCol=\"features\")"
      ],
      "execution_count": 39,
      "outputs": []
    },
    {
      "cell_type": "code",
      "metadata": {
        "colab": {
          "base_uri": "https://localhost:8080/"
        },
        "id": "Zd981bzfl6M9",
        "outputId": "2980336b-dd58-4c59-ef7a-a6a0b0e45e6b"
      },
      "source": [
        "from pyspark.ml import Pipeline\n",
        "\n",
        "modified_data_sdf = assembler.transform(train_sdf)\n",
        "modified_data_sdf.show()"
      ],
      "execution_count": 40,
      "outputs": [
        {
          "output_type": "stream",
          "name": "stdout",
          "text": [
            "+---+---------------+----+------------------+--------------------+--------------------+--------------------+-------------------------------+--------------------+--------------------+--------------------+----------------+--------------------+---------------------------+---------------+-----------+------------------+--------------------+\n",
            "|_c0|iso_code_labels|year|oil_co2_per_capita|             oil_co2|share_global_oil_co2|  cumulative_oil_co2|share_global_cumulative_oil_co2|      co2_growth_abs|      co2_per_capita|                 co2|share_global_co2|      cumulative_co2|share_global_cumulative_co2|co2_growth_prct| population|     AvgYearlyTemp|            features|\n",
            "+---+---------------+----+------------------+--------------------+--------------------+--------------------+-------------------------------+--------------------+--------------------+--------------------+----------------+--------------------+---------------------------+---------------+-----------+------------------+--------------------+\n",
            "|  0|             53|1855|             0.001|0.037000000000000005|               100.0|0.037000000000000005|                          100.0|               3.858|               0.899|              33.071|           12.71|             469.655|                       7.96|          13.21|3.6768948E7|11.763583333333335|[53.0,1855.0,0.00...|\n",
            "|  1|             53|1856|             0.001|                0.04|               100.0|               0.077|                          100.0|               1.561|                0.94|              34.632|           12.49|             504.287|                       8.17|           4.72|3.6853256E7|12.615916666666665|[53.0,1856.0,0.00...|\n",
            "|  2|             53|1857|             0.001|0.044000000000000004|               85.71|               0.121|                          94.29|               0.649|               0.955|              35.281|           12.61|             539.568|                       8.36|           1.87|3.6937755E7|12.823250000000002|[53.0,1857.0,0.00...|\n",
            "|  3|             53|1858|             0.001|               0.048|               76.47| 0.16899999999999998|                          88.46|              -0.685|               0.934|              34.595|           12.17|             574.163|                       8.52|          -1.94|3.7022445E7|12.382083333333336|[53.0,1858.0,0.00...|\n",
            "|  4|             53|1859|             0.001|               0.048|               86.67| 0.21600000000000003|                          88.06|               0.396|               0.943|              34.991|           11.61|             609.155|                       8.65|           1.14|3.7110539E7|           13.1075|[53.0,1859.0,0.00...|\n",
            "|  5|            136|1859|               0.0|               0.004|                6.67|0.006999999999999999|                           2.99|                 0.0|                 0.0|               0.004|             0.0|0.006999999999999999|                        0.0|            0.0|  8499134.0| 9.252083333333333|[136.0,1859.0,0.0...|\n",
            "|  6|              8|1860|               0.0|                 0.0|                0.05|                 0.0|                           0.03|                 0.0|               0.003|               0.002|             0.0|               0.005|                        0.0|          32.14|   594311.0| 8.464083333333333|[8.0,1860.0,0.0,0...|\n",
            "|  8|             20|1860|             0.001|               0.003|                0.92|               0.003|                           0.49|               0.005|               0.006|               0.019|            0.01|               0.061|                        0.0|          32.14|  3396680.0| 5.694416666666667|[20.0,1860.0,0.00...|\n",
            "|  9|             49|1860|               0.0|                 0.0|                0.02|                 0.0|                           0.01|               0.002|0.013000000000000001|0.006999999999999999|             0.0|0.022000000000000002|                        0.0|          32.14|   540368.0| 4.418916666666667|[49.0,1860.0,0.0,...|\n",
            "| 10|             53|1860|             0.001|               0.048|                17.4|               0.264|                          50.82|                3.14|               1.025|              38.131|           11.53|             647.286|                       8.78|           8.97|3.7202052E7|11.752250000000002|[53.0,1860.0,0.00...|\n",
            "| 11|             56|1860|               0.0|                 0.0|                 0.1|                 0.0|                           0.05|               0.001|               0.002|               0.003|             0.0|0.009000000000000001|                        0.0|           32.1|  1544908.0| 8.018333333333333|[56.0,1860.0,0.0,...|\n",
            "| 12|             83|1860|               0.0|                 0.0|                0.12|                 0.0|                           0.06|0.011000000000000001|               0.015|               0.045|            0.01|               0.146|                        0.0|          32.14|  2934178.0| 3.708083333333336|[83.0,1860.0,0.0,...|\n",
            "| 14|             96|1860|             0.001|               0.001|                0.32|               0.001|                           0.17|               0.002|               0.005|0.006999999999999999|             0.0|               0.023|                        0.0|          32.13|  1401276.0| 5.662000000000001|[96.0,1860.0,0.00...|\n",
            "| 15|             98|1860|               0.0|                 0.0|                0.16|                 0.0|                           0.08|               0.001|               0.004|               0.005|             0.0|               0.015|                        0.0|          32.14|  1130272.0| 5.015833333333334|[98.0,1860.0,0.0,...|\n",
            "| 16|            136|1860|               0.0|               0.004|                1.34|0.011000000000000001|                           2.12|                 0.0|                 0.0|               0.004|             0.0|0.011000000000000001|                        0.0|            0.0|  8556435.0| 8.930750000000002|[136.0,1860.0,0.0...|\n",
            "| 17|            155|1860|               0.0|                 0.0|                0.05|                 0.0|                           0.03|               0.001|               0.003|               0.002|             0.0|               0.008|                        0.0|          32.11|   671264.0| 3.093166666666668|[155.0,1860.0,0.0...|\n",
            "| 19|            162|1860|               0.0|               0.001|                0.48|               0.001|                           0.25|               0.032|               0.008|               0.131|            0.04| 0.42700000000000005|                       0.01|          32.14|1.6189352E7| 7.730083333333333|[162.0,1860.0,0.0...|\n",
            "| 21|              8|1861|               0.0|                 0.0|                0.01|                 0.0|                           0.02|                 0.0|               0.003|               0.002|             0.0|0.006999999999999999|                        0.0|          27.03|   599626.0| 7.355000000000001|[8.0,1861.0,0.0,0...|\n",
            "| 22|             11|1861|             0.004|               0.006|                0.58|                0.01|                           0.71|               0.002|0.009000000000000001|0.011000000000000001|             0.0|0.040999999999999995|                        0.0|          27.03|  1280239.0| 9.968583333333333|[11.0,1861.0,0.00...|\n",
            "| 23|             20|1861|             0.001|               0.003|                0.27|               0.005|                           0.35|               0.005|0.006999999999999999|               0.024|            0.01|               0.085|                        0.0|          27.03|  3428107.0| 5.364750000000001|[20.0,1861.0,0.00...|\n",
            "+---+---------------+----+------------------+--------------------+--------------------+--------------------+-------------------------------+--------------------+--------------------+--------------------+----------------+--------------------+---------------------------+---------------+-----------+------------------+--------------------+\n",
            "only showing top 20 rows\n",
            "\n"
          ]
        }
      ]
    },
    {
      "cell_type": "code",
      "metadata": {
        "id": "Rah7TKlHl96k"
      },
      "source": [
        "train_sdf, test_sdf = modified_data_sdf.randomSplit([0.8, 0.2], seed=24)"
      ],
      "execution_count": 23,
      "outputs": []
    },
    {
      "cell_type": "code",
      "metadata": {
        "id": "Dgeg9qwA3k7h"
      },
      "source": [
        "# Training (1750 - 1950)\n",
        "# Validation (1950 - 1980)\n",
        "# Testing (1980 - 2013)"
      ],
      "execution_count": null,
      "outputs": []
    },
    {
      "cell_type": "markdown",
      "metadata": {
        "id": "Fa0ObDMHMQKV"
      },
      "source": [
        "# Linear Regression"
      ]
    },
    {
      "cell_type": "code",
      "metadata": {
        "id": "gtgYC9kJmAR2"
      },
      "source": [
        "from pyspark.ml.regression import LinearRegression\n",
        "\n",
        "# TODO define model\n",
        "lr = LinearRegression(featuresCol='features',labelCol='AvgYearlyTemp',maxIter=5, regParam=0.3, elasticNetParam = 0.8)\n",
        "\n",
        "\n",
        "# fit on training data\n",
        "clfModel = lr.fit(train_sdf)"
      ],
      "execution_count": 24,
      "outputs": []
    },
    {
      "cell_type": "code",
      "metadata": {
        "colab": {
          "base_uri": "https://localhost:8080/"
        },
        "id": "a8gQ7UURmDvg",
        "outputId": "7cf5a655-4cf1-4e79-b467-f3f2c8b3a49c"
      },
      "source": [
        "from pyspark.ml.evaluation import RegressionEvaluator\n",
        "\n",
        "# prediction and evaluation\n",
        "prediction = clfModel.transform(train_sdf)\n",
        "evaluator = RegressionEvaluator()\n",
        "evaluator.setPredictionCol('prediction')\n",
        "evaluator.setLabelCol('AvgYearlyTemp')"
      ],
      "execution_count": 25,
      "outputs": [
        {
          "output_type": "execute_result",
          "data": {
            "text/plain": [
              "RegressionEvaluator_1c19a77a4d36"
            ]
          },
          "metadata": {},
          "execution_count": 25
        }
      ]
    },
    {
      "cell_type": "code",
      "metadata": {
        "colab": {
          "base_uri": "https://localhost:8080/"
        },
        "id": "updbV4jkKmek",
        "outputId": "8a2a1133-c737-4dbc-a8e9-33af2b5dcb18"
      },
      "source": [
        "training_accuracy = evaluator.evaluate(prediction)\n",
        "test_prediction = clfModel.transform(test_sdf)\n",
        "test_predictions_log = evaluator.evaluate(test_prediction, {evaluator.metricName: \"r2\"})\n",
        "\n",
        "print(training_accuracy)\n",
        "print(test_predictions_log)"
      ],
      "execution_count": 26,
      "outputs": [
        {
          "output_type": "stream",
          "name": "stdout",
          "text": [
            "8.435235124440956\n",
            "0.2294293862152943\n"
          ]
        }
      ]
    },
    {
      "cell_type": "code",
      "metadata": {
        "id": "K5e2Ug2VmMOl"
      },
      "source": [
        "# LASSO L1\n",
        "lasso = LinearRegression(featuresCol='features',labelCol='AvgYearlyTemp',maxIter=10, regParam=0.3, elasticNetParam = 1)\n",
        "lassoModel = lasso.fit(train_sdf)\n",
        "prediction = lassoModel.transform(train_sdf)\n",
        "test_prediction = lassoModel.transform(test_sdf)\n",
        "test_area_l1 = evaluator.evaluate(test_prediction, {evaluator.metricName: \"r2\"})\n",
        "\n",
        "# RIDGE L2 TO DO\n",
        "ridge = LinearRegression(featuresCol='features',labelCol='AvgYearlyTemp',maxIter=10, regParam=0.3, elasticNetParam = 0)\n",
        "ridgeModel = ridge.fit(train_sdf)\n",
        "prediction = ridgeModel.transform(train_sdf)\n",
        "test_prediction = ridgeModel.transform(test_sdf)\n",
        "test_area_l2 = evaluator.evaluate(test_prediction, {evaluator.metricName: \"r2\"})\n",
        "\n",
        "# Some variant of elastic net TO DO\n",
        "elastic = LinearRegression(featuresCol='features',labelCol='AvgYearlyTemp',maxIter=10, regParam=0.3, elasticNetParam = 0.8)\n",
        "elasticModel = elastic.fit(train_sdf)\n",
        "prediction = elasticModel.transform(train_sdf)\n",
        "test_prediction = elasticModel.transform(test_sdf)\n",
        "test_area_elastic = evaluator.evaluate(test_prediction, {evaluator.metricName: \"r2\"})"
      ],
      "execution_count": 27,
      "outputs": []
    },
    {
      "cell_type": "code",
      "metadata": {
        "colab": {
          "base_uri": "https://localhost:8080/"
        },
        "id": "cUID4j6xmWpC",
        "outputId": "f34659bd-4bd5-4faa-ed08-29217c4e4101"
      },
      "source": [
        "print(test_area_l1, test_area_l2, test_area_elastic)"
      ],
      "execution_count": 28,
      "outputs": [
        {
          "output_type": "stream",
          "name": "stdout",
          "text": [
            "0.22808427457398306 0.24269430680152648 0.23112894786509108\n"
          ]
        }
      ]
    },
    {
      "cell_type": "markdown",
      "metadata": {
        "id": "tqmRFGNLMWRr"
      },
      "source": [
        "# RandomForestRegressor"
      ]
    },
    {
      "cell_type": "markdown",
      "metadata": {
        "id": "2x5UwbAiHZWc"
      },
      "source": [
        "RandomForestClassifer, PCA\n",
        "normalize using standardScalar"
      ]
    },
    {
      "cell_type": "code",
      "metadata": {
        "id": "aYojvNdkGdlC"
      },
      "source": [
        "from pyspark.ml.regression import RandomForestRegressor\n",
        "\n",
        "# TODO define model\n",
        "rfc = RandomForestRegressor(featuresCol=\"features\",labelCol=\"AvgYearlyTemp\", maxDepth =5, numTrees=20)\n",
        "# TODO fit on training data\n",
        "rfModel = rfc.fit(train_sdf)\n"
      ],
      "execution_count": 29,
      "outputs": []
    },
    {
      "cell_type": "code",
      "metadata": {
        "id": "6Fo7a7I3G75j"
      },
      "source": [
        "# TODO predictions\n",
        "train_prediction = rfModel.transform(train_sdf)\n",
        "test_prediction = rfModel.transform(test_sdf)"
      ],
      "execution_count": 30,
      "outputs": []
    },
    {
      "cell_type": "code",
      "metadata": {
        "colab": {
          "base_uri": "https://localhost:8080/"
        },
        "id": "LANqR2m2G_H4",
        "outputId": "74631659-0720-41bc-9be3-67049a999d23"
      },
      "source": [
        "# TODO evaluate predictions\n",
        "train_area = evaluator.evaluate(train_prediction, {evaluator.metricName: \"r2\"})\n",
        "test_area = evaluator.evaluate(test_prediction, {evaluator.metricName: \"r2\"})\n",
        "print(train_area, test_area)"
      ],
      "execution_count": 31,
      "outputs": [
        {
          "output_type": "stream",
          "name": "stdout",
          "text": [
            "0.6186663893627045 0.6042772678734009\n"
          ]
        }
      ]
    },
    {
      "cell_type": "markdown",
      "metadata": {
        "id": "bZTkFgekH3gF"
      },
      "source": [
        "PCA"
      ]
    },
    {
      "cell_type": "code",
      "metadata": {
        "id": "EWb92i2uIS25"
      },
      "source": [
        "# TODO initialize a PCA model\n",
        "from pyspark.ml import Pipeline\n",
        "from pyspark.ml.feature import PCA\n",
        "\n",
        "pca = PCA(k=6, inputCol=\"features\", outputCol=\"pcaFeatures\")"
      ],
      "execution_count": 32,
      "outputs": []
    },
    {
      "cell_type": "code",
      "metadata": {
        "id": "TMJNHXt2H5K1"
      },
      "source": [
        "# Set up PCA\n",
        "lr = LinearRegression(featuresCol='features',labelCol='AvgYearlyTemp',maxIter=5, regParam=0.3, elasticNetParam = 0.8)\n",
        "# TODO Fit the model using the training data\n",
        "pca_pipe = Pipeline(stages=[assembler,pca, lr])"
      ],
      "execution_count": 33,
      "outputs": []
    },
    {
      "cell_type": "code",
      "metadata": {
        "id": "eMnRcluZIQh2"
      },
      "source": [
        "# Get the PCA feature from the trained model\n",
        "train_sdf = train_sdf.drop(\"features\")\n",
        "pca_model = pca_pipe.fit(train_sdf)"
      ],
      "execution_count": 34,
      "outputs": []
    },
    {
      "cell_type": "code",
      "metadata": {
        "id": "sWJjwINJIST8"
      },
      "source": [
        "# Train a logistic regression model using the PCA features\n",
        "train_prediction = pca_model.transform(train_sdf)\n",
        "\n",
        "test_sdf = test_sdf.drop(\"features\")\n",
        "test_prediction = pca_model.transform(test_sdf)"
      ],
      "execution_count": 35,
      "outputs": []
    },
    {
      "cell_type": "code",
      "metadata": {
        "colab": {
          "base_uri": "https://localhost:8080/"
        },
        "id": "J0yQVsrFITpp",
        "outputId": "c7e1e882-b9b3-43c8-f99f-d5772b1847d1"
      },
      "source": [
        "# TODO evaluate predictions\n",
        "training_pca = evaluator.evaluate(train_prediction, {evaluator.metricName: \"r2\"})\n",
        "test_pca = evaluator.evaluate(test_prediction, {evaluator.metricName: \"r2\"})\n",
        "print(training_pca, test_pca)"
      ],
      "execution_count": 36,
      "outputs": [
        {
          "output_type": "stream",
          "name": "stdout",
          "text": [
            "0.2174208150599808 0.2294293862152943\n"
          ]
        }
      ]
    },
    {
      "cell_type": "markdown",
      "metadata": {
        "id": "faPWCsHHw7if"
      },
      "source": [
        "## Choosing main features"
      ]
    },
    {
      "cell_type": "code",
      "metadata": {
        "id": "vU_tra3-IVyD"
      },
      "source": [
        "# remove duplicate columns\n",
        "columns_to_use_2 = ['iso_code_labels','year','oil_co2','co2','co2_growth_prct','population']"
      ],
      "execution_count": 43,
      "outputs": []
    },
    {
      "cell_type": "code",
      "metadata": {
        "id": "QbWxMyHPxJNS"
      },
      "source": [
        "assembler2 = VectorAssembler(inputCols=columns_to_use_2, outputCol=\"features\")"
      ],
      "execution_count": 45,
      "outputs": []
    },
    {
      "cell_type": "code",
      "metadata": {
        "colab": {
          "base_uri": "https://localhost:8080/"
        },
        "id": "e6FFs5XKxRkU",
        "outputId": "bea3d088-f070-4979-c2ad-b4babee3f878"
      },
      "source": [
        "from pyspark.ml import Pipeline\n",
        "\n",
        "modified_data_sdf_2 = assembler2.transform(train_sdf)\n",
        "modified_data_sdf_2.show()"
      ],
      "execution_count": 46,
      "outputs": [
        {
          "output_type": "stream",
          "name": "stdout",
          "text": [
            "+---+---------------+----+------------------+--------------------+--------------------+--------------------+-------------------------------+--------------------+--------------------+--------------------+----------------+--------------------+---------------------------+---------------+-----------+------------------+--------------------+\n",
            "|_c0|iso_code_labels|year|oil_co2_per_capita|             oil_co2|share_global_oil_co2|  cumulative_oil_co2|share_global_cumulative_oil_co2|      co2_growth_abs|      co2_per_capita|                 co2|share_global_co2|      cumulative_co2|share_global_cumulative_co2|co2_growth_prct| population|     AvgYearlyTemp|            features|\n",
            "+---+---------------+----+------------------+--------------------+--------------------+--------------------+-------------------------------+--------------------+--------------------+--------------------+----------------+--------------------+---------------------------+---------------+-----------+------------------+--------------------+\n",
            "|  0|             53|1855|             0.001|0.037000000000000005|               100.0|0.037000000000000005|                          100.0|               3.858|               0.899|              33.071|           12.71|             469.655|                       7.96|          13.21|3.6768948E7|11.763583333333335|[53.0,1855.0,0.03...|\n",
            "|  1|             53|1856|             0.001|                0.04|               100.0|               0.077|                          100.0|               1.561|                0.94|              34.632|           12.49|             504.287|                       8.17|           4.72|3.6853256E7|12.615916666666665|[53.0,1856.0,0.04...|\n",
            "|  2|             53|1857|             0.001|0.044000000000000004|               85.71|               0.121|                          94.29|               0.649|               0.955|              35.281|           12.61|             539.568|                       8.36|           1.87|3.6937755E7|12.823250000000002|[53.0,1857.0,0.04...|\n",
            "|  3|             53|1858|             0.001|               0.048|               76.47| 0.16899999999999998|                          88.46|              -0.685|               0.934|              34.595|           12.17|             574.163|                       8.52|          -1.94|3.7022445E7|12.382083333333336|[53.0,1858.0,0.04...|\n",
            "|  4|             53|1859|             0.001|               0.048|               86.67| 0.21600000000000003|                          88.06|               0.396|               0.943|              34.991|           11.61|             609.155|                       8.65|           1.14|3.7110539E7|           13.1075|[53.0,1859.0,0.04...|\n",
            "|  5|            136|1859|               0.0|               0.004|                6.67|0.006999999999999999|                           2.99|                 0.0|                 0.0|               0.004|             0.0|0.006999999999999999|                        0.0|            0.0|  8499134.0| 9.252083333333333|[136.0,1859.0,0.0...|\n",
            "|  6|              8|1860|               0.0|                 0.0|                0.05|                 0.0|                           0.03|                 0.0|               0.003|               0.002|             0.0|               0.005|                        0.0|          32.14|   594311.0| 8.464083333333333|[8.0,1860.0,0.0,0...|\n",
            "|  8|             20|1860|             0.001|               0.003|                0.92|               0.003|                           0.49|               0.005|               0.006|               0.019|            0.01|               0.061|                        0.0|          32.14|  3396680.0| 5.694416666666667|[20.0,1860.0,0.00...|\n",
            "|  9|             49|1860|               0.0|                 0.0|                0.02|                 0.0|                           0.01|               0.002|0.013000000000000001|0.006999999999999999|             0.0|0.022000000000000002|                        0.0|          32.14|   540368.0| 4.418916666666667|[49.0,1860.0,0.0,...|\n",
            "| 10|             53|1860|             0.001|               0.048|                17.4|               0.264|                          50.82|                3.14|               1.025|              38.131|           11.53|             647.286|                       8.78|           8.97|3.7202052E7|11.752250000000002|[53.0,1860.0,0.04...|\n",
            "| 11|             56|1860|               0.0|                 0.0|                 0.1|                 0.0|                           0.05|               0.001|               0.002|               0.003|             0.0|0.009000000000000001|                        0.0|           32.1|  1544908.0| 8.018333333333333|[56.0,1860.0,0.0,...|\n",
            "| 12|             83|1860|               0.0|                 0.0|                0.12|                 0.0|                           0.06|0.011000000000000001|               0.015|               0.045|            0.01|               0.146|                        0.0|          32.14|  2934178.0| 3.708083333333336|[83.0,1860.0,0.0,...|\n",
            "| 14|             96|1860|             0.001|               0.001|                0.32|               0.001|                           0.17|               0.002|               0.005|0.006999999999999999|             0.0|               0.023|                        0.0|          32.13|  1401276.0| 5.662000000000001|[96.0,1860.0,0.00...|\n",
            "| 15|             98|1860|               0.0|                 0.0|                0.16|                 0.0|                           0.08|               0.001|               0.004|               0.005|             0.0|               0.015|                        0.0|          32.14|  1130272.0| 5.015833333333334|[98.0,1860.0,0.0,...|\n",
            "| 16|            136|1860|               0.0|               0.004|                1.34|0.011000000000000001|                           2.12|                 0.0|                 0.0|               0.004|             0.0|0.011000000000000001|                        0.0|            0.0|  8556435.0| 8.930750000000002|[136.0,1860.0,0.0...|\n",
            "| 17|            155|1860|               0.0|                 0.0|                0.05|                 0.0|                           0.03|               0.001|               0.003|               0.002|             0.0|               0.008|                        0.0|          32.11|   671264.0| 3.093166666666668|[155.0,1860.0,0.0...|\n",
            "| 19|            162|1860|               0.0|               0.001|                0.48|               0.001|                           0.25|               0.032|               0.008|               0.131|            0.04| 0.42700000000000005|                       0.01|          32.14|1.6189352E7| 7.730083333333333|[162.0,1860.0,0.0...|\n",
            "| 21|              8|1861|               0.0|                 0.0|                0.01|                 0.0|                           0.02|                 0.0|               0.003|               0.002|             0.0|0.006999999999999999|                        0.0|          27.03|   599626.0| 7.355000000000001|[8.0,1861.0,0.0,0...|\n",
            "| 22|             11|1861|             0.004|               0.006|                0.58|                0.01|                           0.71|               0.002|0.009000000000000001|0.011000000000000001|             0.0|0.040999999999999995|                        0.0|          27.03|  1280239.0| 9.968583333333333|[11.0,1861.0,0.00...|\n",
            "| 23|             20|1861|             0.001|               0.003|                0.27|               0.005|                           0.35|               0.005|0.006999999999999999|               0.024|            0.01|               0.085|                        0.0|          27.03|  3428107.0| 5.364750000000001|[20.0,1861.0,0.00...|\n",
            "+---+---------------+----+------------------+--------------------+--------------------+--------------------+-------------------------------+--------------------+--------------------+--------------------+----------------+--------------------+---------------------------+---------------+-----------+------------------+--------------------+\n",
            "only showing top 20 rows\n",
            "\n"
          ]
        }
      ]
    },
    {
      "cell_type": "code",
      "metadata": {
        "id": "OePmvcI-1gwZ"
      },
      "source": [
        ""
      ],
      "execution_count": null,
      "outputs": []
    },
    {
      "cell_type": "code",
      "metadata": {
        "id": "dtZGTmPKxcRS"
      },
      "source": [
        "train_sdf_2, test_sdf_2 = modified_data_sdf_2.randomSplit([0.8, 0.2], seed=24)"
      ],
      "execution_count": 48,
      "outputs": []
    },
    {
      "cell_type": "markdown",
      "metadata": {
        "id": "k18auqM8yyKq"
      },
      "source": [
        "### Linear Regression"
      ]
    },
    {
      "cell_type": "code",
      "metadata": {
        "id": "0MfgDNEyxf3q"
      },
      "source": [
        "# fit on training data\n",
        "clfModel_2 = lr.fit(train_sdf_2)\n",
        "prediction_2 = clfModel_2.transform(train_sdf_2)\n",
        "training_accuracy_2 = evaluator.evaluate(prediction_2)\n",
        "test_prediction_2 = clfModel.transform(test_sdf_2)\n",
        "test_predictions_log_2 = evaluator.evaluate(test_prediction_2, {evaluator.metricName: \"r2\"})\n",
        "\n",
        "print(training_accuracy_2)\n",
        "print(test_predictions_log_2)"
      ],
      "execution_count": null,
      "outputs": []
    },
    {
      "cell_type": "code",
      "metadata": {
        "colab": {
          "base_uri": "https://localhost:8080/"
        },
        "id": "vg2Z9EJ00Uou",
        "outputId": "bfdab805-85bb-4c33-b89d-4e4446c83ed9"
      },
      "source": [
        "prediction"
      ],
      "execution_count": 57,
      "outputs": [
        {
          "output_type": "execute_result",
          "data": {
            "text/plain": [
              "DataFrame[_c0: int, iso_code_labels: int, year: int, oil_co2_per_capita: double, oil_co2: double, share_global_oil_co2: double, cumulative_oil_co2: double, share_global_cumulative_oil_co2: double, co2_growth_abs: double, co2_per_capita: double, co2: double, share_global_co2: double, cumulative_co2: double, share_global_cumulative_co2: double, co2_growth_prct: double, population: double, AvgYearlyTemp: double, features: vector, prediction: double]"
            ]
          },
          "metadata": {},
          "execution_count": 57
        }
      ]
    },
    {
      "cell_type": "code",
      "metadata": {
        "id": "QhV0BHwpx_b9"
      },
      "source": [
        "# LASSO L1\n",
        "lassoModel_2 = lasso.fit(train_sdf_2)\n",
        "prediction_2 = lassoModel_2.transform(train_sdf_2)\n",
        "test_prediction_2 = lassoModel_2.transform(test_sdf_2)\n",
        "test_area_l1_2 = evaluator.evaluate(test_prediction_2, {evaluator.metricName: \"r2\"})\n",
        "\n",
        "# RIDGE L2\n",
        "ridgeModel_2 = ridge.fit(train_sdf_2)\n",
        "prediction_2 = ridgeModel_2.transform(train_sdf_2)\n",
        "test_prediction_2 = ridgeModel_2.transform(test_sdf_2)\n",
        "test_area_l2_2 = evaluator.evaluate(test_prediction_2, {evaluator.metricName: \"r2\"})\n",
        "\n",
        "# elastic net\n",
        "elasticModel_2 = elastic.fit(train_sdf_2)\n",
        "prediction_2 = elasticModel_2.transform(train_sdf_2)\n",
        "test_prediction_2 = elasticModel_2.transform(test_sdf_2)\n",
        "test_area_elastic_2 = evaluator.evaluate(test_prediction_2, {evaluator.metricName: \"r2\"})"
      ],
      "execution_count": 52,
      "outputs": []
    },
    {
      "cell_type": "code",
      "metadata": {
        "colab": {
          "base_uri": "https://localhost:8080/"
        },
        "id": "o5x7r4cOysph",
        "outputId": "9c4149ee-bf72-44b2-caa0-bd81bee17999"
      },
      "source": [
        "print(test_area_l1_2, test_area_l2_2, test_area_elastic_2)"
      ],
      "execution_count": 53,
      "outputs": [
        {
          "output_type": "stream",
          "name": "stdout",
          "text": [
            "0.1874450907659082 0.20111345447961526 0.19131870601871737\n"
          ]
        }
      ]
    },
    {
      "cell_type": "markdown",
      "metadata": {
        "id": "eQQVgV_Fy0rC"
      },
      "source": [
        "### RandomForestRegression"
      ]
    },
    {
      "cell_type": "code",
      "metadata": {
        "colab": {
          "base_uri": "https://localhost:8080/"
        },
        "id": "7GZ4hXGzzOQq",
        "outputId": "d7212616-5429-4716-ed96-1d6ff66ed522"
      },
      "source": [
        "rfModel_2 = rfc.fit(train_sdf_2)\n",
        "train_prediction_2 = rfModel_2.transform(train_sdf_2)\n",
        "test_prediction_2 = rfModel_2.transform(test_sdf_2)\n",
        "train_area_2 = evaluator.evaluate(train_prediction_2, {evaluator.metricName: \"r2\"})\n",
        "test_area_2 = evaluator.evaluate(test_prediction_2, {evaluator.metricName: \"r2\"})\n",
        "print(train_area_2, test_area_2)"
      ],
      "execution_count": 54,
      "outputs": [
        {
          "output_type": "stream",
          "name": "stdout",
          "text": [
            "0.531684981676612 0.5171556979857721\n"
          ]
        }
      ]
    },
    {
      "cell_type": "markdown",
      "metadata": {
        "id": "Ifi7GaD_zHXy"
      },
      "source": [
        "### PCA"
      ]
    },
    {
      "cell_type": "code",
      "metadata": {
        "colab": {
          "base_uri": "https://localhost:8080/"
        },
        "id": "fQ5KiGRIzegh",
        "outputId": "a081867c-d6d6-4f99-f9db-649a097045ab"
      },
      "source": [
        "train_sdf_2 = train_sdf_2.drop(\"features\")\n",
        "pca_model_2 = pca_pipe.fit(train_sdf_2)\n",
        "train_prediction_2 = pca_model_2.transform(train_sdf_2)\n",
        "\n",
        "test_sdf_2 = test_sdf_2.drop(\"features\")\n",
        "test_prediction_2 = pca_model_2.transform(test_sdf_2)\n",
        "training_pca_2 = evaluator.evaluate(train_prediction_2, {evaluator.metricName: \"r2\"})\n",
        "test_pca_2 = evaluator.evaluate(test_prediction_2, {evaluator.metricName: \"r2\"})\n",
        "print(training_pca_2, test_pca_2)\n"
      ],
      "execution_count": 55,
      "outputs": [
        {
          "output_type": "stream",
          "name": "stdout",
          "text": [
            "0.21743975848854913 0.21821522925338754\n"
          ]
        }
      ]
    }
  ]
}